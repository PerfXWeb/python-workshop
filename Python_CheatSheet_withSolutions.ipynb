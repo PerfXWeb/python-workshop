{
 "cells": [
  {
   "cell_type": "markdown",
   "metadata": {
    "id": "_1jcNoEZyQWR",
    "slideshow": {
     "slide_type": "skip"
    }
   },
   "source": [
    "[Link to open the notebook WITH solutions in Google Colab](https://colab.research.google.com/github/PerfXWeb/python-workshop/blob/master/Python_CheatSheet_withSolutions.ipynb)\n",
    "\n",
    "[Link to open the notebook WITHOUT solutions in Google Colab](https://colab.research.google.com/github/PerfXWeb/python-workshop/blob/master/Python_CheatSheet_noSolutions.ipynb)"
   ]
  },
  {
   "cell_type": "markdown",
   "metadata": {
    "id": "4BRqjCbV-cWQ",
    "slideshow": {
     "slide_type": "slide"
    }
   },
   "source": [
    "# Welcome\n",
    "## CCV Tech - From absolute 0 to Python hero\n"
   ]
  },
  {
   "cell_type": "markdown",
   "metadata": {
    "id": "tbSCAh5aKbCQ"
   },
   "source": [
    "*Link to Gitlab repository (this notebook, slides, code and \n",
    "more): [https://github.com/perfxweb/python-workshop](https://github.com/perfxweb/python-workshop)*"
   ]
  },
  {
   "cell_type": "markdown",
   "metadata": {
    "id": "X1uUlG59IYJs",
    "slideshow": {
     "slide_type": "subslide"
    }
   },
   "source": [
    "## Before we start *(for live course attendees)*\n",
    "\n",
    "* Turn on your camera\n",
    "* I need your **full attention**\n",
    "* Let me know at ANY time if there are any questions or if we are going too fast\n",
    "* We will have problems to solve for you. Solutions WILL partly be in the notebook. Do NOT look at the solutions until we discussed them if you want to learn something.\n",
    "\n"
   ]
  },
  {
   "cell_type": "markdown",
   "metadata": {
    "id": "5eOqqSmPI27O",
    "slideshow": {
     "slide_type": "subslide"
    }
   },
   "source": [
    "- close **everything on your computer** except:\n",
    " - Our communication platform\n",
    " - [this Google Colab notebook (without solutions)](https://colab.research.google.com/github/PerfXWeb/python-workshop/blob/master/Python_CheatSheet_noSolutions.ipynb)\n",
    " - (*That Colab notebook has even more notes in it than the presentation itself, so have a look and save it for the future*)\n",
    " - [this Menti survey](https://www.menti.com/w1wfe5bhkk)\n"
   ]
  },
  {
   "cell_type": "markdown",
   "metadata": {
    "id": "b_4w2o7xakLO",
    "slideshow": {
     "slide_type": "fragment"
    }
   },
   "source": [
    "* Forgive me if there's anything going wrong in this class. I am doing this for the first time ever."
   ]
  },
  {
   "cell_type": "markdown",
   "metadata": {
    "id": "ggU9eBlhh4ij",
    "slideshow": {
     "slide_type": "subslide"
    }
   },
   "source": [
    "<img src=\"https://raw.githubusercontent.com/PerfXWeb/python-workshop/master/images/pw-menti.png\" width=\"60%\">"
   ]
  },
  {
   "cell_type": "markdown",
   "metadata": {
    "id": "Y24wEK6G-sKD",
    "slideshow": {
     "slide_type": "subslide"
    }
   },
   "source": [
    "## Your lecturer for today"
   ]
  },
  {
   "cell_type": "markdown",
   "metadata": {
    "id": "PtuBFFPQAc-n"
   },
   "source": [
    "### Matthias Hausberger"
   ]
  },
  {
   "cell_type": "markdown",
   "metadata": {
    "id": "A8_H0B7_Fxls"
   },
   "source": [
    "<img src=\"https://raw.githubusercontent.com/PerfXWeb/python-workshop/master/images/profile_matthias.jpg\" width=\"40%\">\n",
    "\n",
    "* 22 years old\n",
    "* Self-taught programmer\n",
    "* Python, PHP, MySQL, XPath, HTML, CSS, Unix/Linux\n",
    "* Specialised in web automation (with or without API (Selenium)), and Chat Bots\n",
    "* Always feel free to contact me: matthias.hausberger@s.wu.ac.at\n",
    "\n",
    "\n",
    "\n"
   ]
  },
  {
   "cell_type": "markdown",
   "metadata": {
    "id": "cSMWsBKMIwzE",
    "slideshow": {
     "slide_type": "subslide"
    }
   },
   "source": [
    "## Agenda\n",
    "1. Quick introduction into Python\n",
    "1. Data Types / Variables (biggest chunk)\n",
    "1. If sentences\n",
    "1. Loops\n",
    "1. Functions\n",
    "1. Classes and objects (most difficult chunk)\n",
    "1. Imports (best chunk)\n",
    "1. Final tips and what you should do\n",
    "\n",
    "In between:\n",
    "* Tips and tricks on bug fixing and googling\n",
    "* exercises\n",
    "* breaks"
   ]
  },
  {
   "cell_type": "markdown",
   "metadata": {
    "id": "JSN4QyyRLULV",
    "slideshow": {
     "slide_type": "subslide"
    }
   },
   "source": [
    "## By the end of this class, we should be able to...\n",
    "* Understand all 5 major concepts of object-oriented programming\n",
    "* Be able to read and *understand* Python code\n",
    "* know how to get started with your own code\n",
    " - Where to look for code\n",
    " - How to avoid common mistakes"
   ]
  },
  {
   "cell_type": "markdown",
   "metadata": {
    "id": "MQMA5bnGPFuP",
    "slideshow": {
     "slide_type": "fragment"
    }
   },
   "source": [
    "Most importantly...\n"
   ]
  },
  {
   "cell_type": "markdown",
   "metadata": {
    "id": "ZMeEEe0gPNWE",
    "slideshow": {
     "slide_type": "fragment"
    }
   },
   "source": [
    "* feel like you learned more in this class than you did in any other class this semester"
   ]
  },
  {
   "cell_type": "markdown",
   "metadata": {
    "id": "Bt0ZcEgNUgm8",
    "slideshow": {
     "slide_type": "subslide"
    }
   },
   "source": [
    "**This will be a very interactive course**\n",
    "* Using discussions\n",
    "* Using polls\n",
    "* Using breakout rooms\n",
    "* Feel free to ask questions in between or during breaks\n",
    "* Also ask questions in the chat or directly to *Clemens Brandstätter* who is also here for dev support\n",
    "* Using memes (to get you into the programmer memes culture)"
   ]
  },
  {
   "cell_type": "markdown",
   "metadata": {
    "id": "qy08mgijUyrB",
    "slideshow": {
     "slide_type": "subslide"
    }
   },
   "source": [
    "<img src=\"https://raw.githubusercontent.com/PerfXWeb/python-workshop/master/images/meme_programmingmemes.png\" width=\"50%\">"
   ]
  },
  {
   "cell_type": "markdown",
   "metadata": {
    "id": "IGKa48Kmmy65",
    "slideshow": {
     "slide_type": "subslide"
    }
   },
   "source": [
    "## Mindset preparation\n",
    "* Learning a programming language is like learning any other language\n",
    "* Vocabulary: not so important (Google is your best friend)\n",
    "* Grammar (=Syntax): **very important**\n",
    "\n",
    "Today we will learn a lot about the grammar, the baseline of Python programming."
   ]
  },
  {
   "cell_type": "markdown",
   "metadata": {
    "id": "JgkrXxqfniTX"
   },
   "source": [
    "*Side note: At the end of this class, you might feel like you haven't actually learned how to code. But you have. Examples will be shown at the end of this class*"
   ]
  },
  {
   "cell_type": "markdown",
   "metadata": {
    "id": "efnwfvMGPbGf",
    "slideshow": {
     "slide_type": "slide"
    }
   },
   "source": [
    "# 0 - Python"
   ]
  },
  {
   "cell_type": "markdown",
   "metadata": {
    "id": "KdTc2zc-Pgep"
   },
   "source": [
    "## About Python\n",
    "Python is an interpreted, high-level and general-purpose programming language. Created by Guido van Rossum.\n",
    "* First release 1991\n",
    "* Python 3 released in 2008\n",
    " - BIG difference to Python 2.7*\n",
    "* Current version: Python 3.9 *(as of November 2020)*\n",
    "* Object-oriented programming language *(just like Java, C++, C#, Python, R, PHP, Visual Basic.NET, JavaScript, Ruby, Perl, Object Pascal, Objective-C, Dart, Swift, Scala, Kotlin, Common Lisp, MATLAB, and Smalltalk)*\n",
    "* very readable code\n",
    "\n",
    "\n",
    "*(Source: Wikipedia)*\n",
    "\n",
    "** Some computers have Python 2.7 pre-installed. Make sure to download and use the current Python 3 version*"
   ]
  },
  {
   "cell_type": "markdown",
   "metadata": {
    "id": "69ztvvfEQJqL"
   },
   "source": [
    "> *Advanced: Since many programming languages are object-oriented, you will most probably be able to read code from many many different programming languages to some extent.*"
   ]
  },
  {
   "cell_type": "markdown",
   "metadata": {
    "id": "BmKAw-qQVD1T",
    "slideshow": {
     "slide_type": "subslide"
    }
   },
   "source": [
    "<img src=\"https://raw.githubusercontent.com/PerfXWeb/python-workshop/master/images/meme_spaghettiorientation.png\" width=\"50%\">"
   ]
  },
  {
   "cell_type": "markdown",
   "metadata": {
    "id": "gYFpjCZYR51m",
    "slideshow": {
     "slide_type": "subslide"
    }
   },
   "source": [
    "## What you can do with Python\n",
    "* Simple algorithms (everything, that excel can do as well)\n",
    "* Graphs, User Interfaces, Images (diagrams and actual GUI programs)\n",
    "* Automation in every form you can imagine\n",
    "* Run code on your computer, phone, server or microwave \n",
    "* **Data Science and Machine Learning*** *(advanced)*"
   ]
  },
  {
   "cell_type": "markdown",
   "metadata": {
    "id": "RJujBE2BYjNk"
   },
   "source": [
    "** Scikit, Tensorflow, PyTorch and Pandas are known Data Science and Machine Learning tools that all base on Python*"
   ]
  },
  {
   "cell_type": "markdown",
   "metadata": {
    "id": "IgPJAPsaR9oK",
    "slideshow": {
     "slide_type": "subslide"
    }
   },
   "source": [
    "## What you can (or should) NOT do with Python\n",
    "* GUI games *(possible, but not recommended)*\n",
    "* Smartphone apps *(possible, but not recommended)*\n",
    "* low-level programming* *(almost impossible, definitely not recommended)*"
   ]
  },
  {
   "cell_type": "markdown",
   "metadata": {
    "id": "VXlNlhAJJqso"
   },
   "source": [
    "** basically computer language, having access to every detail on how computers use resources*"
   ]
  },
  {
   "cell_type": "markdown",
   "metadata": {
    "id": "yu9vGgZPTTHQ",
    "slideshow": {
     "slide_type": "subslide"
    }
   },
   "source": [
    "## What you should know before we start\n"
   ]
  },
  {
   "cell_type": "markdown",
   "metadata": {
    "id": "AMwW5I2ohBzv",
    "slideshow": {
     "slide_type": "fragment"
    }
   },
   "source": [
    "**Learn the syntax**"
   ]
  },
  {
   "cell_type": "markdown",
   "metadata": {
    "id": "4Xr_v03PhREa"
   },
   "source": [
    "Once you understand the syntax, everything else is super easy."
   ]
  },
  {
   "cell_type": "markdown",
   "metadata": {
    "id": "2K6oWOfWDO2F",
    "slideshow": {
     "slide_type": "fragment"
    }
   },
   "source": [
    "There's always several ways on how to solve a problem.\n",
    "* Normally, you just need to find **any** way that solves your problem.\n",
    "* Only if you work for Google etc., you might need to find the \"most efficient\" code."
   ]
  },
  {
   "cell_type": "markdown",
   "metadata": {
    "id": "TCFn8b7AWbAP",
    "slideshow": {
     "slide_type": "subslide"
    }
   },
   "source": [
    "Programming mainly consists of:"
   ]
  },
  {
   "cell_type": "markdown",
   "metadata": {
    "id": "sdLSmDPoXItG",
    "slideshow": {
     "slide_type": "fragment"
    }
   },
   "source": [
    "* 25% **Thinking** about how you can solve a problem"
   ]
  },
  {
   "cell_type": "markdown",
   "metadata": {
    "id": "LAyn2GGTXWYp",
    "slideshow": {
     "slide_type": "fragment"
    }
   },
   "source": [
    "* 5% **Actual coding**"
   ]
  },
  {
   "cell_type": "markdown",
   "metadata": {
    "id": "NW1W3hwEXaGq",
    "slideshow": {
     "slide_type": "fragment"
    }
   },
   "source": [
    "* 70% **Googling**"
   ]
  },
  {
   "cell_type": "markdown",
   "metadata": {
    "id": "3Qcj2NWUVxY_",
    "slideshow": {
     "slide_type": "subslide"
    }
   },
   "source": [
    "<img src=\"https://raw.githubusercontent.com/PerfXWeb/python-workshop/master/images/meme_googling.jpg\" width=\"60%\">"
   ]
  },
  {
   "cell_type": "markdown",
   "metadata": {
    "id": "4oPlTFXmaSAL",
    "slideshow": {
     "slide_type": "subslide"
    }
   },
   "source": [
    "* Most of the time, I also have to google basic commands\n",
    "* We will learn how to google.\n",
    "* If you run into any errors during the course - ask me, or..."
   ]
  },
  {
   "cell_type": "markdown",
   "metadata": {
    "id": "KbNjrwTLac1M",
    "slideshow": {
     "slide_type": "fragment"
    }
   },
   "source": [
    "...google."
   ]
  },
  {
   "cell_type": "markdown",
   "metadata": {
    "id": "wEfcmQORPsNT",
    "slideshow": {
     "slide_type": "subslide"
    }
   },
   "source": [
    "## About the environment we are using\n",
    "* Google Colab - an easy way to get started\n",
    "* Free computing resources\n",
    "* Easy to share\n",
    "* Easy to copy to your own Drive"
   ]
  },
  {
   "cell_type": "markdown",
   "metadata": {
    "id": "6ls3qmLFZjMW",
    "slideshow": {
     "slide_type": "subslide"
    }
   },
   "source": [
    "## If you want to install Python on your own computer\n",
    "[Windows tutorial](https://phoenixnap.com/kb/how-to-install-python-3-windows)\n",
    "\n",
    "[MacOS tutorial](https://docs.python-guide.org/starting/install3/osx/)\n",
    "\n",
    "**A few tips to bear in mind**:\n",
    "* Make sure to download Python 3!\n",
    "* Make sure you also install pip on Python 3 (not on Python 2)\n",
    "* Maybe have a look at \"Python Virtual Environments\" for dependency management"
   ]
  },
  {
   "cell_type": "markdown",
   "metadata": {
    "id": "Ov9ath6tbfX-",
    "slideshow": {
     "slide_type": "slide"
    }
   },
   "source": [
    "# 1 - Data types / Variables\n",
    "*The beginning of everything*"
   ]
  },
  {
   "cell_type": "markdown",
   "metadata": {
    "id": "4uUimrm5b9aQ",
    "slideshow": {
     "slide_type": "subslide"
    }
   },
   "source": [
    "## Intro\n",
    "* Variables store values for you **while** you execute your code\n",
    " - **Not** for saving those values permanently to then load them another time.\n",
    "* There are 7 data types, we will go through the most important ones"
   ]
  },
  {
   "cell_type": "markdown",
   "metadata": {
    "id": "awhNUKMndDK_",
    "slideshow": {
     "slide_type": "fragment"
    }
   },
   "source": [
    "* You can set and overwrite variables as much as you want.\n",
    "* You can give your variables *almost* any name you want.\n",
    "* Special characters: You can *ONLY* use underscores `_`\n",
    "* Name can not be JUST a number\n",
    "* Very few names are *reserved names*\n",
    " - e.g. `and`, `from`, `if`, `for`, `while`, `try`, `break`,...."
   ]
  },
  {
   "cell_type": "markdown",
   "metadata": {
    "id": "mv_mX2wOpjOe",
    "slideshow": {
     "slide_type": "fragment"
    }
   },
   "source": [
    "* *Do not use CAPITAL LETTERS in your variable names for christ's sake.*"
   ]
  },
  {
   "cell_type": "markdown",
   "metadata": {
    "id": "SBwndCwRkwGA",
    "slideshow": {
     "slide_type": "fragment"
    }
   },
   "source": [
    "**Unlike other programming languages, Python will automatically use the correct data type once you set up a variable.**"
   ]
  },
  {
   "cell_type": "markdown",
   "metadata": {
    "id": "nQUUcRW8eBk1",
    "slideshow": {
     "slide_type": "skip"
    }
   },
   "source": [
    "> *Advanced: [Full list of reserved names / keywords](https://docs.python.org/2/reference/lexical_analysis.html?highlight=keywords#keywords)*"
   ]
  },
  {
   "cell_type": "markdown",
   "metadata": {
    "id": "YsPym4lBcxzj",
    "slideshow": {
     "slide_type": "subslide"
    }
   },
   "source": [
    "## Strings\n",
    "Basically any text you want to save\n",
    "\n",
    "\n",
    "```python\n",
    "# <- anything that you write on the right side of a hashtag \n",
    "# will serve as a simple comment\n",
    "\n",
    "# Three ways, all of them are doing the same\n",
    "cems = \"This is some cems variable\"\n",
    "cems=\"This is some cems variable\"\n",
    "cems = 'This is some cems variable'\n",
    "# The variable cems now stores some text in it\n",
    "```\n",
    "\n"
   ]
  },
  {
   "cell_type": "markdown",
   "metadata": {
    "id": "SFFAuxutgnoD",
    "slideshow": {
     "slide_type": "subslide"
    }
   },
   "source": [
    "Make sure to watch out for single and double quotes:\n",
    "\n"
   ]
  },
  {
   "cell_type": "code",
   "execution_count": 24,
   "metadata": {
    "id": "rKNjt5QwhA3D"
   },
   "outputs": [],
   "source": [
    "# single quotes in a double quote string\n",
    "cems_single = \"Here I've got an abbreviation in my text (I've).\"\n",
    "# double quotes in a single quote string\n",
    "cems_double = 'Here I can \"quote something in double quotes\" but not single ones.'"
   ]
  },
  {
   "cell_type": "code",
   "execution_count": 25,
   "metadata": {
    "colab": {
     "base_uri": "https://localhost:8080/",
     "height": 130
    },
    "id": "_JUa4udFiLqF",
    "outputId": "745c6d66-6cc5-46f3-9852-0e9f01de0b23",
    "slideshow": {
     "slide_type": "fragment"
    }
   },
   "outputs": [
    {
     "ename": "SyntaxError",
     "evalue": "invalid syntax (<ipython-input-25-686de77f327f>, line 2)",
     "output_type": "error",
     "traceback": [
      "\u001b[0;36m  File \u001b[0;32m\"<ipython-input-25-686de77f327f>\"\u001b[0;36m, line \u001b[0;32m2\u001b[0m\n\u001b[0;31m    cems_single_wrong = 'Here I've got some wrong code'\u001b[0m\n\u001b[0m                                ^\u001b[0m\n\u001b[0;31mSyntaxError\u001b[0m\u001b[0;31m:\u001b[0m invalid syntax\n"
     ]
    }
   ],
   "source": [
    "# This will not work\n",
    "cems_single_wrong = 'Here I've got some wrong code'"
   ]
  },
  {
   "cell_type": "markdown",
   "metadata": {
    "id": "oewPQgsWid8l",
    "slideshow": {
     "slide_type": "subslide"
    }
   },
   "source": [
    "*Quick workaround:*"
   ]
  },
  {
   "cell_type": "code",
   "execution_count": null,
   "metadata": {
    "colab": {
     "base_uri": "https://localhost:8080/"
    },
    "id": "Q_gd6suBik9b",
    "outputId": "c6554b8f-8a66-439a-b186-73703fa26c59"
   },
   "outputs": [],
   "source": [
    "# Backslashes make bad characters harmless\n",
    "cems_single_double = \"Here I've got both single and \\\"double quotes\\\" in one variable\"\n",
    "\n",
    "# the print function print() displays whatever you put in between those parantheses\n",
    "print(cems_single_double)\n",
    "\n",
    "# Adding up variables also works\n",
    "cems_single = \"Here I've got an abbreviation in my text (I've). \"\n",
    "cems_double = 'Here I can \"quote something in double quotes\" but not single ones.'\n",
    "print(cems_single + cems_double)"
   ]
  },
  {
   "cell_type": "markdown",
   "metadata": {
    "id": "wlMALZV8jlz0",
    "slideshow": {
     "slide_type": "subslide"
    }
   },
   "source": [
    "### Exercise 1\n",
    "<img src=\"https://raw.githubusercontent.com/PerfXWeb/python-workshop/master/images/pw-individualexercise.png\" width=\"50%\">\n",
    "\n",
    "Can you guess what this code does:\n",
    "\n",
    "```python\n",
    "name = \"Matthias\"\n",
    "print(\"My name is\"+name)\n",
    "```\n",
    "\n",
    "*Advanced: What might be wrong with the code?*"
   ]
  },
  {
   "cell_type": "code",
   "execution_count": null,
   "metadata": {
    "colab": {
     "base_uri": "https://localhost:8080/"
    },
    "id": "IdZGn9MujuIT",
    "outputId": "c8e8f5a2-6560-4689-be6d-6b93237706bd",
    "slideshow": {
     "slide_type": "subslide"
    }
   },
   "outputs": [],
   "source": [
    "# Solution\n",
    "# this defines the variable name to be \"Matthias\"\n",
    "name = \"Matthias\"\n",
    "# this prints out a string AND then the variable name\n",
    "print(\"My name is\"+name)\n",
    "\n",
    "# small bug fix: Add a spacebar in between.\n",
    "print(\"My name is \"+name)"
   ]
  },
  {
   "cell_type": "markdown",
   "metadata": {
    "id": "rJXNYDCVkUpE",
    "slideshow": {
     "slide_type": "subslide"
    }
   },
   "source": [
    "## Integers and floats\n",
    "Numbers you can calculate stuff with.\n",
    "* Integers are natural numbers without commas\n",
    "* Floats always have a comma"
   ]
  },
  {
   "cell_type": "code",
   "execution_count": null,
   "metadata": {
    "colab": {
     "base_uri": "https://localhost:8080/"
    },
    "id": "UsrRKXw0lEAa",
    "outputId": "230f17c2-1fdd-4721-b9ce-d8f779927d33",
    "slideshow": {
     "slide_type": "subslide"
    }
   },
   "outputs": [],
   "source": [
    "# Define an integer\n",
    "some_number = 16 # Watch out, there are NO quotation marks!\n",
    "                 # That way Python knows what is a string and what not\n",
    "another_number = 4\n",
    "print(some_number + another_number)\n",
    "\n",
    "# Define a float\n",
    "some_float = 16.9\n",
    "another_float = 3.71\n",
    "print(some_float + another_float)\n",
    "\n",
    "# adding another value to an existing variable\n",
    "another_float = another_float + 2\n",
    "\n",
    "# add up both\n",
    "final_result = some_number + another_number + some_float + another_float\n",
    "print(final_result)"
   ]
  },
  {
   "cell_type": "markdown",
   "metadata": {
    "id": "mfzWa4dbl8PC"
   },
   "source": [
    "How to make the result look even cleaner"
   ]
  },
  {
   "cell_type": "code",
   "execution_count": 26,
   "metadata": {
    "colab": {
     "base_uri": "https://localhost:8080/"
    },
    "id": "kdUubH1Sl7bd",
    "outputId": "f8fb6c28-1b19-4583-878a-0e70ed49f1f0",
    "slideshow": {
     "slide_type": "subslide"
    }
   },
   "outputs": [
    {
     "name": "stdout",
     "output_type": "stream",
     "text": [
      "42\n",
      "43\n",
      "42.6\n"
     ]
    }
   ],
   "source": [
    "# we turn that float into an integer\n",
    "make_an_integer_out_of_this = int(final_result) # int() will always round DOWN\n",
    "print(make_an_integer_out_of_this)\n",
    "\n",
    "# round correctly\n",
    "make_an_integer_out_of_this = round(final_result) # round() does what you expect\n",
    "print(make_an_integer_out_of_this)\n",
    "\n",
    "# round to one decimal\n",
    "make_an_integer_out_of_this = round(final_result, 1)\n",
    "                          # the round() function can also work with several parameters.\n",
    "print(make_an_integer_out_of_this)"
   ]
  },
  {
   "cell_type": "markdown",
   "metadata": {
    "id": "QXHof-nqnZL1"
   },
   "source": [
    "Printing it with text will need some adaptation"
   ]
  },
  {
   "cell_type": "code",
   "execution_count": 27,
   "metadata": {
    "colab": {
     "base_uri": "https://localhost:8080/",
     "height": 198
    },
    "id": "bTvxNVJZne9Y",
    "outputId": "b93abb43-d434-460c-be8f-aa155b1df976",
    "slideshow": {
     "slide_type": "subslide"
    }
   },
   "outputs": [
    {
     "ename": "TypeError",
     "evalue": "can only concatenate str (not \"int\") to str",
     "output_type": "error",
     "traceback": [
      "\u001b[0;31m---------------------------------------------------------------------------\u001b[0m",
      "\u001b[0;31mTypeError\u001b[0m                                 Traceback (most recent call last)",
      "\u001b[0;32m<ipython-input-27-8376fb425322>\u001b[0m in \u001b[0;36m<module>\u001b[0;34m\u001b[0m\n\u001b[1;32m      1\u001b[0m \u001b[0;31m# This will NOT work\u001b[0m\u001b[0;34m\u001b[0m\u001b[0;34m\u001b[0m\u001b[0;34m\u001b[0m\u001b[0m\n\u001b[1;32m      2\u001b[0m \u001b[0msome_number\u001b[0m \u001b[0;34m=\u001b[0m \u001b[0;36m42\u001b[0m\u001b[0;34m\u001b[0m\u001b[0;34m\u001b[0m\u001b[0m\n\u001b[0;32m----> 3\u001b[0;31m \u001b[0mprint\u001b[0m\u001b[0;34m(\u001b[0m\u001b[0;34m\"The number is \"\u001b[0m \u001b[0;34m+\u001b[0m \u001b[0msome_number\u001b[0m \u001b[0;34m+\u001b[0m \u001b[0;34m\" and has always been \"\u001b[0m \u001b[0;34m+\u001b[0m \u001b[0msome_number\u001b[0m \u001b[0;34m+\u001b[0m \u001b[0;34m\".\"\u001b[0m\u001b[0;34m)\u001b[0m\u001b[0;34m\u001b[0m\u001b[0;34m\u001b[0m\u001b[0m\n\u001b[0m",
      "\u001b[0;31mTypeError\u001b[0m: can only concatenate str (not \"int\") to str"
     ]
    }
   ],
   "source": [
    "# This will NOT work\n",
    "some_number = 42\n",
    "print(\"The number is \" + some_number + \" and has always been \" + some_number + \".\")"
   ]
  },
  {
   "cell_type": "markdown",
   "metadata": {
    "id": "_FSrhN7HnoVN",
    "slideshow": {
     "slide_type": "subslide"
    }
   },
   "source": [
    "You will have to convert everything to a string before printing it together"
   ]
  },
  {
   "cell_type": "code",
   "execution_count": 28,
   "metadata": {
    "id": "YaX5-MAVnuam"
   },
   "outputs": [
    {
     "name": "stdout",
     "output_type": "stream",
     "text": [
      "The number is 42 and has always been 42.\n"
     ]
    }
   ],
   "source": [
    "# This will work\n",
    "some_number = 42\n",
    "print(\"The number is \" + str(some_number) + \" and has always been \" + str(some_number) + \".\")\n",
    "# str() works in the same way as int()"
   ]
  },
  {
   "cell_type": "code",
   "execution_count": 29,
   "metadata": {
    "id": "ZWGyP8G5oGUd",
    "slideshow": {
     "slide_type": "fragment"
    }
   },
   "outputs": [
    {
     "name": "stdout",
     "output_type": "stream",
     "text": [
      "The number is 42 and has always been 42.\n"
     ]
    }
   ],
   "source": [
    "# a much cooler way of printing: use f-strings\n",
    "# This automatically converts all other data types into a string\n",
    "# Only works in Python 3\n",
    "some_number = 42\n",
    "print(f\"The number is {some_number} and has always been {some_number}.\")"
   ]
  },
  {
   "cell_type": "markdown",
   "metadata": {
    "id": "iNEEAoVCo5hu",
    "slideshow": {
     "slide_type": "subslide"
    }
   },
   "source": [
    "### Exercise 2\n",
    "<img src=\"https://raw.githubusercontent.com/PerfXWeb/python-workshop/master/images/pw-individualexercise.png\" width=\"50%\">\n",
    "\n",
    "How can we calculate the average age of Alex and Steve and then tell them \"The average age is `XX`.\"? Round the number to two decimals.\n",
    "\n"
   ]
  },
  {
   "cell_type": "code",
   "execution_count": 30,
   "metadata": {
    "id": "024wE9Jhp_nZ",
    "slideshow": {
     "slide_type": "fragment"
    }
   },
   "outputs": [],
   "source": [
    "# Your variables\n",
    "alex = 33.5\n",
    "steve = 37.75\n",
    "text = \"The average age is \""
   ]
  },
  {
   "cell_type": "code",
   "execution_count": 31,
   "metadata": {
    "id": "kJ3vPOxjqPy1",
    "slideshow": {
     "slide_type": "subslide"
    }
   },
   "outputs": [],
   "source": [
    "# Solution\n",
    "average = round((alex + steve) / 2, 2)"
   ]
  },
  {
   "cell_type": "code",
   "execution_count": 32,
   "metadata": {
    "id": "VQrZevO_qX0-",
    "slideshow": {
     "slide_type": "fragment"
    }
   },
   "outputs": [
    {
     "name": "stdout",
     "output_type": "stream",
     "text": [
      "The average age is 35.62\n",
      "The average age is 35.62\n"
     ]
    }
   ],
   "source": [
    "# Solution\n",
    "print(text + str(average))\n",
    "# or\n",
    "print(f\"{text}{average}\")"
   ]
  },
  {
   "cell_type": "markdown",
   "metadata": {
    "id": "BbSO2X28q6sj",
    "slideshow": {
     "slide_type": "subslide"
    }
   },
   "source": [
    "*Nice*"
   ]
  },
  {
   "cell_type": "markdown",
   "metadata": {
    "id": "-GT6j2-iq-wb",
    "slideshow": {
     "slide_type": "subslide"
    }
   },
   "source": [
    "*This is already getting quite sophisticated*"
   ]
  },
  {
   "cell_type": "markdown",
   "metadata": {
    "id": "pd4r3zE8yxQx",
    "slideshow": {
     "slide_type": "subslide"
    }
   },
   "source": [
    "## Booleans\n",
    "True or False.\n",
    "**Watch out for capitalised letters here!**"
   ]
  },
  {
   "cell_type": "code",
   "execution_count": 33,
   "metadata": {
    "id": "UbpNwtWwy2bf"
   },
   "outputs": [
    {
     "name": "stdout",
     "output_type": "stream",
     "text": [
      "True\n",
      "The other variable says False\n"
     ]
    }
   ],
   "source": [
    "is_this_true = True\n",
    "is_this_false = False\n",
    "\n",
    "print(is_this_true)\n",
    "print(f\"The other variable says {is_this_false}\")"
   ]
  },
  {
   "cell_type": "markdown",
   "metadata": {
    "id": "8dpnjNEfrGxJ",
    "slideshow": {
     "slide_type": "subslide"
    }
   },
   "source": [
    "## Lists / Dictionaries / Arrays\n",
    "One variable that stores a bunch of information.\n",
    "* Very useful if you have to go through a bunch of information in sequence\n",
    "* Useful to keep track of all the variables you are using\n",
    "* One variable can store several data types simultaneously"
   ]
  },
  {
   "cell_type": "markdown",
   "metadata": {
    "id": "kDLwaYdUsA_y",
    "slideshow": {
     "slide_type": "subslide"
    }
   },
   "source": [
    "### Lists\n",
    "Store several variables in sequence.\n",
    "Use square brackets `[ ]`."
   ]
  },
  {
   "cell_type": "code",
   "execution_count": 34,
   "metadata": {
    "id": "Us1q0Dr3sRz4",
    "slideshow": {
     "slide_type": "fragment"
    }
   },
   "outputs": [
    {
     "name": "stdout",
     "output_type": "stream",
     "text": [
      "Steve\n",
      "Karen\n"
     ]
    }
   ],
   "source": [
    "# List example\n",
    "# each variable gets an index number\n",
    "# index is:    0        1         2          3\n",
    "all_names = [\"Alex\", \"Steve\", \"Patricia\", \"Karen\"] # You MUST use square brackets to define a list\n",
    "\n",
    "# printing the second list item\n",
    "print(all_names[1])\n",
    "\n",
    "# printing the last list item\n",
    "print(all_names[-1])"
   ]
  },
  {
   "cell_type": "markdown",
   "metadata": {
    "id": "akSTmElxTsXJ",
    "slideshow": {
     "slide_type": "subslide"
    }
   },
   "source": [
    "<img src=\"https://raw.githubusercontent.com/PerfXWeb/python-workshop/master/images/meme_arrays.png\" width=\"50%\">"
   ]
  },
  {
   "cell_type": "code",
   "execution_count": 35,
   "metadata": {
    "id": "brAC6A-As_7D",
    "slideshow": {
     "slide_type": "subslide"
    }
   },
   "outputs": [
    {
     "name": "stdout",
     "output_type": "stream",
     "text": [
      "['Alex', 'Steve']\n",
      "['Patricia', 'Karen']\n",
      "['Steve', 'Patricia', 'Karen']\n",
      "['Steve', 'Patricia']\n"
     ]
    }
   ],
   "source": [
    "# Advanced:\n",
    "# printing the first two items (= end at index 1)\n",
    "print(all_names[:2])\n",
    "\n",
    "# printing the last two items (= start at -2)\n",
    "print(all_names[-2:])\n",
    "\n",
    "# printing every item except the first (= start at index 1)\n",
    "print(all_names[1:])\n",
    "\n",
    "# printing the second and third item (= start at index 1, end at index 2)\n",
    "print(all_names[1:3])"
   ]
  },
  {
   "cell_type": "markdown",
   "metadata": {
    "id": "bkkM_UV_t0jL",
    "slideshow": {
     "slide_type": "subslide"
    }
   },
   "source": [
    "Edit these variables in the same way:"
   ]
  },
  {
   "cell_type": "code",
   "execution_count": 36,
   "metadata": {
    "id": "Jz8saLR2t2aj"
   },
   "outputs": [
    {
     "name": "stdout",
     "output_type": "stream",
     "text": [
      "['Alex', 'Steve', 'Patricia', 'Karen']\n",
      "['Alex', 'Steve', 'not Patricia anymore', 'Karen']\n"
     ]
    }
   ],
   "source": [
    "# Editing the item from index 2\n",
    "all_names = [\"Alex\", \"Steve\", \"Patricia\", \"Karen\"]\n",
    "print(all_names)\n",
    "\n",
    "all_names[2] = \"not Patricia anymore\"\n",
    "print(all_names)"
   ]
  },
  {
   "cell_type": "markdown",
   "metadata": {
    "id": "PYvAey39uIMO",
    "slideshow": {
     "slide_type": "fragment"
    }
   },
   "source": [
    "You can also define which variable you want to change in another variable"
   ]
  },
  {
   "cell_type": "code",
   "execution_count": 37,
   "metadata": {
    "id": "WUXEm4shuN2_"
   },
   "outputs": [
    {
     "name": "stdout",
     "output_type": "stream",
     "text": [
      "['Alex', 'Steve', 'Patricia', \"I'm changing this\"]\n"
     ]
    }
   ],
   "source": [
    "# Editing a variable based on another variable\n",
    "index_to_change = 3\n",
    "all_names = [\"Alex\", \"Steve\", \"Patricia\", \"Karen\"]\n",
    "\n",
    "all_names[index_to_change] = \"I'm changing this\"\n",
    "print(all_names)"
   ]
  },
  {
   "cell_type": "markdown",
   "metadata": {
    "id": "lvDgAJmOuoHq",
    "slideshow": {
     "slide_type": "subslide"
    }
   },
   "source": [
    "You can also have lists in lists, or dictionaries in dictionaries.\n",
    "\n",
    "Or if you're feeling really wild: Dictionaries in lists in dictionaries."
   ]
  },
  {
   "cell_type": "code",
   "execution_count": 38,
   "metadata": {
    "id": "gXaGBqO2urpY"
   },
   "outputs": [
    {
     "name": "stdout",
     "output_type": "stream",
     "text": [
      "The newest member is Olga with an age of 40\n",
      "[['Alex', 25], ['Steve', 28], ['Patricia', 20], ['Olga', 40]]\n"
     ]
    }
   ],
   "source": [
    "# main one, now every name includes an age.\n",
    "all_names = [[\"Alex\", 25], [\"Steve\", 28], [\"Patricia\", 20], [\"Karen\", 42]]\n",
    "\n",
    "# we can also append another value\n",
    "another_woman = [\"Olga\", 40]\n",
    "all_names.append(another_woman) # the append() function adds the new item to the END of the list\n",
    "\n",
    "print(f\"The newest member is {all_names[-1][0]} with an age of {all_names[-1][1]}\")\n",
    "\n",
    "# we can also delete a specific value\n",
    "del(all_names[-2]) # we just deleted Karen out of the equation\n",
    "\n",
    "print(all_names)"
   ]
  },
  {
   "cell_type": "markdown",
   "metadata": {
    "id": "Lm2umZNVwSJm",
    "slideshow": {
     "slide_type": "subslide"
    }
   },
   "source": [
    "### Dictionaries\n",
    "Are basically the same as lists, but instead of an integer index, you define the names.\n",
    "Use curly brackets `{ }`."
   ]
  },
  {
   "cell_type": "code",
   "execution_count": 39,
   "metadata": {
    "id": "3o2BAV_Pwa40"
   },
   "outputs": [
    {
     "name": "stdout",
     "output_type": "stream",
     "text": [
      "{'name': 'Karen', 'age': 42, 'hobbies': 'Shouting at managers'}\n",
      "42\n"
     ]
    }
   ],
   "source": [
    "# dictionaries\n",
    "hobbies = \"Shouting at managers\"\n",
    "user_1 = {'name' : 'Karen', 'age': 42, 'hobbies':hobbies} # MUST use curly brackets.\n",
    "\n",
    "print(user_1)\n",
    "\n",
    "# now to print, we STILL use square brackets (don't ask me why)\n",
    "print(user_1['age'])"
   ]
  },
  {
   "cell_type": "code",
   "execution_count": 40,
   "metadata": {
    "id": "30aEmwu2x3Pb",
    "slideshow": {
     "slide_type": "fragment"
    }
   },
   "outputs": [
    {
     "name": "stdout",
     "output_type": "stream",
     "text": [
      "{'name': 'Karen', 'age': 42, 'hobbies': 'Shouting at managers very loudly', 'children': 0}\n"
     ]
    }
   ],
   "source": [
    "# changing variables or ADDING new ones is EXACTLY the same as with lists\n",
    "\n",
    "# changing\n",
    "user_1['hobbies'] = user_1['hobbies'] + \" very loudly\" # here I added two more words to the already existing\n",
    "\n",
    "# adding\n",
    "user_1['children'] = 0\n",
    "\n",
    "print(user_1)"
   ]
  },
  {
   "cell_type": "markdown",
   "metadata": {
    "id": "L7shYsgdzNvN",
    "slideshow": {
     "slide_type": "subslide"
    }
   },
   "source": [
    "### Exercise 3\n",
    "<img src=\"https://raw.githubusercontent.com/PerfXWeb/python-workshop/master/images/pw-individualexercise.png\" width=\"50%\">\n",
    "\n",
    "How can we add another year to Karens age?"
   ]
  },
  {
   "cell_type": "code",
   "execution_count": 41,
   "metadata": {
    "id": "BBLY1jdGpgMx"
   },
   "outputs": [],
   "source": [
    "# Your variables\n",
    "users = [\n",
    "         {'name':'Alex', 'age':25, 'hobbies':'swimming'},\n",
    "         {'name':'Steve', 'age':28, 'hobbies':'studying'},\n",
    "         {'name':'Patricia', 'age':20, 'hobbies':'tennis'},\n",
    "         {'name':'Karen', 'age':42, 'hobbies':'shouting at managers'}\n",
    "]"
   ]
  },
  {
   "cell_type": "code",
   "execution_count": 42,
   "metadata": {
    "id": "7d_YVJtzqAu1",
    "slideshow": {
     "slide_type": "subslide"
    }
   },
   "outputs": [],
   "source": [
    "# Solution\n",
    "# one line of code\n",
    "users[3]['age'] = users[3]['age'] + 1"
   ]
  },
  {
   "cell_type": "markdown",
   "metadata": {
    "id": "Os0aBJS1tIuN",
    "slideshow": {
     "slide_type": "subslide"
    }
   },
   "source": [
    "## Part 1 - Summary\n",
    "We learned about\n",
    "* Strings ( `\"hello\"` )\n",
    "* Integers ( `1234` )\n",
    "* Floats ( `1234.56` )\n",
    "* Booleans ( `True` )\n",
    "* Lists ( `[12, 23, \"hello\"]` )\n",
    "* Dictionaries ( `{'foo':'bar', 'foo2':'bar2'}` )\n",
    "\n"
   ]
  },
  {
   "cell_type": "markdown",
   "metadata": {
    "id": "iPIaZeD1u5lz",
    "slideshow": {
     "slide_type": "subslide"
    }
   },
   "source": [
    "*very nice*"
   ]
  },
  {
   "cell_type": "markdown",
   "metadata": {
    "id": "MMuC8kp9XWsg",
    "slideshow": {
     "slide_type": "subslide"
    }
   },
   "source": [
    "<img src=\"https://raw.githubusercontent.com/PerfXWeb/python-workshop/master/images/pw-break.png\" width=\"60%\">"
   ]
  },
  {
   "cell_type": "markdown",
   "metadata": {
    "id": "DXnJA-B8h_vf",
    "slideshow": {
     "slide_type": "subslide"
    }
   },
   "source": [
    "<img src=\"https://raw.githubusercontent.com/PerfXWeb/python-workshop/master/images/pw-menti.png\" width=\"60%\">"
   ]
  },
  {
   "cell_type": "markdown",
   "metadata": {
    "id": "rRQMkfZmu70V",
    "slideshow": {
     "slide_type": "slide"
    }
   },
   "source": [
    "# 2 - If sentences\n",
    "*The start of real programming*"
   ]
  },
  {
   "cell_type": "markdown",
   "metadata": {
    "id": "j6lpzH0u1T1w",
    "slideshow": {
     "slide_type": "subslide"
    }
   },
   "source": [
    "## Basics"
   ]
  },
  {
   "cell_type": "markdown",
   "metadata": {
    "id": "T7xvccsVvX_D"
   },
   "source": [
    "The two basics of if-sentences are:\n",
    "* Use `if` to verify whether a condition is met\n",
    " - **Indent** all the code that should only be run if that condition is met\n",
    "* Use `else` after an `if` statement to run code that should be run if a condition is NOT met.\n",
    " - **Indent** all the code that should only be run if the `if` condition is not met"
   ]
  },
  {
   "cell_type": "markdown",
   "metadata": {
    "id": "-6ZlklA60vee"
   },
   "source": [
    "*Advanced: Indenation is not common in other programming languages. Most programming languages are using brackets to define what is included for an if-statement.*"
   ]
  },
  {
   "cell_type": "markdown",
   "metadata": {
    "id": "zqbXpgKjxiL7",
    "slideshow": {
     "slide_type": "subslide"
    }
   },
   "source": [
    "Basic example:"
   ]
  },
  {
   "cell_type": "code",
   "execution_count": 43,
   "metadata": {
    "id": "hAtn8b81xjyt"
   },
   "outputs": [
    {
     "name": "stdout",
     "output_type": "stream",
     "text": [
      "Not allowed to drink in the US\n"
     ]
    }
   ],
   "source": [
    "# some variables first\n",
    "my_age = 19\n",
    "\n",
    "if my_age>=21:\n",
    "  print(\"Allowed to drink in the US\") # don't forget indentation\n",
    "else:\n",
    "  print(\"Not allowed to drink in the US\")"
   ]
  },
  {
   "cell_type": "markdown",
   "metadata": {
    "id": "XV6G6J7syCcZ",
    "slideshow": {
     "slide_type": "subslide"
    }
   },
   "source": [
    "For if-sentences, you can use the following conditions:\n",
    "* `==`: equal to\n",
    "* `!=`: not equal to\n",
    "* `>`: bigger than\n",
    "* `<=`: smaller than\n",
    "* `>`: bigger or equal to\n",
    "* `<=`: smaller or equal to\n",
    "\n",
    "You can also use any **function** as an if-operator (more on that later). If that function returns `False`, then the condition is not met, otherwise the condition is met."
   ]
  },
  {
   "cell_type": "markdown",
   "metadata": {
    "id": "eSLDCukm1jAe",
    "slideshow": {
     "slide_type": "subslide"
    }
   },
   "source": [
    "## `and`, `or` and `in` parameters in if-sentences\n",
    "If you want to check several conditions at the same time, then you can use the parameters `and` and `or`. If you want to search for a value in a string or list/dictionary/array, you can use `in`."
   ]
  },
  {
   "cell_type": "markdown",
   "metadata": {
    "id": "2eBU-kWc5d9Z",
    "slideshow": {
     "slide_type": "fragment"
    }
   },
   "source": [
    "And they work exactly the way you think they would."
   ]
  },
  {
   "cell_type": "markdown",
   "metadata": {
    "id": "2q_EVcgH0MKu",
    "slideshow": {
     "slide_type": "subslide"
    }
   },
   "source": [
    "Some examples:"
   ]
  },
  {
   "cell_type": "code",
   "execution_count": 44,
   "metadata": {
    "id": "5pW-h9mB0LXQ"
   },
   "outputs": [
    {
     "name": "stdout",
     "output_type": "stream",
     "text": [
      "number is over 18\n",
      "str is in string\n",
      "Variable 'person' has a name and an age set!\n"
     ]
    }
   ],
   "source": [
    "# some variables first\n",
    "numbers = [19, 23, 39, 30]\n",
    "string = \"This is a string\"\n",
    "person = {'name':'Karen', 'age':23}\n",
    "\n",
    "if numbers[0]>18:\n",
    "  print(\"number is over 18\")\n",
    "\n",
    "if \"str\" in string:\n",
    "  print(\"str is in string\")\n",
    "\n",
    "if \"age\" in person and \"name\" in person:\n",
    "  print(\"Variable 'person' has a name and an age set!\")"
   ]
  },
  {
   "cell_type": "markdown",
   "metadata": {
    "id": "qq_d5gfL7mVJ",
    "slideshow": {
     "slide_type": "subslide"
    }
   },
   "source": [
    "Advanced example:"
   ]
  },
  {
   "cell_type": "code",
   "execution_count": 45,
   "metadata": {
    "id": "zNpy0kbz7lqU"
   },
   "outputs": [
    {
     "name": "stdout",
     "output_type": "stream",
     "text": [
      "Age is 20 or 23 and name is Karen!\n"
     ]
    }
   ],
   "source": [
    "person = {'name':'Karen', 'age':23}\n",
    "\n",
    "if (person['age']==20 or person['age']==23) and person['name'].lower()==\"karen\":\n",
    "  print(\"Age is 20 or 23 and name is Karen!\")\n",
    "\n",
    "# the variable.lower() function converts all letters into lower-case letters"
   ]
  },
  {
   "cell_type": "markdown",
   "metadata": {
    "id": "e8ISzOms8jg8",
    "slideshow": {
     "slide_type": "subslide"
    }
   },
   "source": [
    "## Nested if-statements\n",
    "`if` statements inside `if` statements are called nested if-statements"
   ]
  },
  {
   "cell_type": "markdown",
   "metadata": {
    "id": "iufFSv8sBA0g",
    "slideshow": {
     "slide_type": "fragment"
    }
   },
   "source": [
    "Example:"
   ]
  },
  {
   "cell_type": "markdown",
   "metadata": {
    "id": "U4r5yKC7DTqH",
    "slideshow": {
     "slide_type": "subslide"
    }
   },
   "source": [
    "Nest 0:"
   ]
  },
  {
   "cell_type": "code",
   "execution_count": 46,
   "metadata": {
    "id": "-j4bdaiDBBvK"
   },
   "outputs": [
    {
     "name": "stdout",
     "output_type": "stream",
     "text": [
      "Person is over 18.\n"
     ]
    }
   ],
   "source": [
    "person = {'name':'Karen', 'age':24, 'programming_grade':1}\n",
    "\n",
    "if person['age']>18:\n",
    "  print(\"Person is over 18.\")\n",
    "\n",
    "else:\n",
    "  print(\"person's is 18 or under.\")"
   ]
  },
  {
   "cell_type": "markdown",
   "metadata": {
    "id": "5eUnzlkeDWvW",
    "slideshow": {
     "slide_type": "subslide"
    }
   },
   "source": [
    "Nest 1:"
   ]
  },
  {
   "cell_type": "code",
   "execution_count": 47,
   "metadata": {
    "id": "PFJfMlrZDXZf"
   },
   "outputs": [
    {
     "name": "stdout",
     "output_type": "stream",
     "text": [
      "Person is over 18.\n",
      "Peron's programming grade is lower than 2.\n"
     ]
    }
   ],
   "source": [
    "person = {'name':'Karen', 'age':24, 'programming_grade':1}\n",
    "\n",
    "if person['age']>18:\n",
    "  print(\"Person is over 18.\")\n",
    "\n",
    "  if person['programming_grade']<3:\n",
    "    print(\"Peron's programming grade is lower than 2.\")\n",
    "  \n",
    "  else:\n",
    "    print(\"Programming grade is higher than 2.\")\n",
    "\n",
    "else:\n",
    "  print(\"person's is 18 or under.\")"
   ]
  },
  {
   "cell_type": "markdown",
   "metadata": {
    "id": "ldp3IcLbDaYR",
    "slideshow": {
     "slide_type": "subslide"
    }
   },
   "source": [
    "Nest 2:"
   ]
  },
  {
   "cell_type": "code",
   "execution_count": 48,
   "metadata": {
    "id": "UUA3C-fPDbJ_"
   },
   "outputs": [
    {
     "name": "stdout",
     "output_type": "stream",
     "text": [
      "Person is over 18.\n",
      "Peron's programming grade is lower than 2.\n",
      "And the person's name is Karen\n"
     ]
    }
   ],
   "source": [
    "person = {'name':'Karen', 'age':24, 'programming_grade':1}\n",
    "\n",
    "if person['age']>18:\n",
    "  print(\"Person is over 18.\")\n",
    "\n",
    "  if person['programming_grade']<3:\n",
    "    print(\"Peron's programming grade is lower than 2.\")\n",
    "\n",
    "    if person['name']==\"Karen\":\n",
    "      print(\"And the person's name is Karen\")\n",
    "    else:\n",
    "      print(\"But the person's name is not Karen\")\n",
    "  \n",
    "  else:\n",
    "    print(\"Programming grade is higher than 2.\")\n",
    "\n",
    "else:\n",
    "  print(\"person's is 18 or under.\")"
   ]
  },
  {
   "cell_type": "markdown",
   "metadata": {
    "id": "AzGBZTUbIvPP",
    "slideshow": {
     "slide_type": "subslide"
    }
   },
   "source": [
    "...one last thing..."
   ]
  },
  {
   "cell_type": "markdown",
   "metadata": {
    "id": "vrfqm1_fIq_H",
    "slideshow": {
     "slide_type": "subslide"
    }
   },
   "source": [
    "## `elif` statements\n",
    "*A nice mix of `else` and `if`.*\n",
    "\n",
    "<i>\"If the previous condition is not true, then try this one.\"</i>"
   ]
  },
  {
   "cell_type": "code",
   "execution_count": 49,
   "metadata": {
    "id": "lRkIzwhgLGXo",
    "slideshow": {
     "slide_type": "fragment"
    }
   },
   "outputs": [
    {
     "name": "stdout",
     "output_type": "stream",
     "text": [
      "Not allowed to drink at all\n"
     ]
    }
   ],
   "source": [
    "age = 15\n",
    "\n",
    "if age>=21:\n",
    "  print(\"Allowed to drink everything everywhere.\")\n",
    "elif age>=18:\n",
    "  print(\"Not allowed to drink in the US.\")\n",
    "elif age>=16:\n",
    "  print(\"Only allowed to dirnk beer & wine.\")\n",
    "else:\n",
    "  print(\"Not allowed to drink at all\")"
   ]
  },
  {
   "cell_type": "markdown",
   "metadata": {
    "id": "C3zBMaWnMOK8",
    "slideshow": {
     "slide_type": "subslide"
    }
   },
   "source": [
    "## Exercise 4 (a big one)\n",
    "\n",
    "<img src=\"https://raw.githubusercontent.com/PerfXWeb/python-workshop/master/images/pw-groupexercise.png\" width=\"50%\">"
   ]
  },
  {
   "cell_type": "markdown",
   "metadata": {
    "id": "K3Ukb7seMXLw"
   },
   "source": [
    "Try to program the following:\n",
    "* We get some random password as an input\n",
    "* We need to check, whether that password meets the following criteria:\n",
    " - The length of the password must be at least 8 characters long *(hint: use `len(variable)` to get the number of characters in a variable)*\n",
    " - The password must have at least one uppercase letter in it *(hint: Use `variable.lower()` to convert a variable into lowercase)*\n",
    " - The password must have the letter \"e\" in it\n",
    "* print an according error message for every condition (using `else` statements\n",
    "* If all conditions are met, print `\"success\"`"
   ]
  },
  {
   "cell_type": "markdown",
   "metadata": {
    "id": "6NPwVjf4sjLm",
    "slideshow": {
     "slide_type": "subslide"
    }
   },
   "source": [
    "### Before we start: Excursus to googling Python vocabulary\n",
    "How to find functions like `len(variable)` or `variable.lower()` if you have no clue about all of this?\n",
    "\n",
    "[Google: Python variable length (for `len(variable)`)](https://www.google.com/search?q=python+variable+length)\n",
    "\n",
    "[Google: Python lowercase (for `str.lower()`)](https://www.google.com/search?q=python+lowercase)\n",
    "\n",
    "<img src=\"https://raw.githubusercontent.com/PerfXWeb/python-workshop/master/images/meme_googling.jpg\" width=\"60%\">"
   ]
  },
  {
   "cell_type": "markdown",
   "metadata": {
    "id": "e8Dn8VmxEiGU",
    "slideshow": {
     "slide_type": "subslide"
    }
   },
   "source": [
    "### The exercise"
   ]
  },
  {
   "cell_type": "code",
   "execution_count": 50,
   "metadata": {
    "id": "pms1XkhsNNPT"
   },
   "outputs": [],
   "source": [
    "# The password variable\n",
    "password = \"Abc25eSdd\""
   ]
  },
  {
   "cell_type": "code",
   "execution_count": 51,
   "metadata": {
    "id": "UE2YtVMKQRSp",
    "slideshow": {
     "slide_type": "subslide"
    }
   },
   "outputs": [
    {
     "name": "stdout",
     "output_type": "stream",
     "text": [
      "success\n"
     ]
    }
   ],
   "source": [
    "# Solution\n",
    "password = \"Abc25eSdd\"\n",
    "\n",
    "if len(password)>7:\n",
    "  if password.lower()!=password: # this compares the lowercase password with the normal password.\n",
    "    # If they were equal, it would mean that there is no uppercase letter.\n",
    "    if \"e\" in password.lower():\n",
    "            # I used variable.lower() here again, in case the letter E is capitalised in the password\n",
    "      print(\"success\")\n",
    "    else:\n",
    "      print(\"The password must include an 'e'\")\n",
    "  else:\n",
    "    print(\"The password must include at least one uppercase letter.\")\n",
    "else:\n",
    "  print(\"The length of the password must be at least 8 characters long.\")\n"
   ]
  },
  {
   "cell_type": "markdown",
   "metadata": {
    "id": "l9M2-B4rfbzk",
    "slideshow": {
     "slide_type": "slide"
    }
   },
   "source": [
    "# 3 - Loops\n",
    "**Loops**\n",
    "\n",
    "*Loops*\n",
    "\n",
    "Loops\n",
    "\n",
    "...\n"
   ]
  },
  {
   "cell_type": "markdown",
   "metadata": {
    "id": "bDbXPU0DoW6M",
    "slideshow": {
     "slide_type": "fragment"
    }
   },
   "source": [
    "Loops help you repeat specific code for as long as you need it."
   ]
  },
  {
   "cell_type": "markdown",
   "metadata": {
    "id": "Avu4lVyUoQCn",
    "slideshow": {
     "slide_type": "subslide"
    }
   },
   "source": [
    "## The difference between `while` and `for` loops\n",
    "There's two different loop types\n",
    "* `while` loops - repeat for as long as a condition is True (similar to an if-statement)\n",
    "* `for` loops - go through each item in a list *(or array, tuple, set, etc.)*\n",
    "\n",
    "Frankly, both can be used synonymously in a way."
   ]
  },
  {
   "cell_type": "markdown",
   "metadata": {
    "id": "-H3ejqeTpliK",
    "slideshow": {
     "slide_type": "subslide"
    }
   },
   "source": [
    "## `while` loops"
   ]
  },
  {
   "cell_type": "markdown",
   "metadata": {
    "id": "bjiwhgXFpxU9"
   },
   "source": [
    "Basic example: we want to count down until you're allowed to drink in the U.S."
   ]
  },
  {
   "cell_type": "code",
   "execution_count": 52,
   "metadata": {
    "id": "fNErlV5Epk-a"
   },
   "outputs": [
    {
     "name": "stdout",
     "output_type": "stream",
     "text": [
      " Happy birthday! 3 more years to go.\n",
      " Happy birthday! 2 more years to go.\n",
      " Happy birthday! 1 more years to go.\n",
      "Happy birthday! You're allowed to drink now!\n"
     ]
    }
   ],
   "source": [
    "# setting an age\n",
    "age = 18\n",
    "\n",
    "while age < 21:\n",
    "  print(f\" Happy birthday! {21-age} more years to go.\")\n",
    "  age = age + 1\n",
    "\n",
    "print(\"Happy birthday! You're allowed to drink now!\")"
   ]
  },
  {
   "cell_type": "markdown",
   "metadata": {
    "id": "OTc3DROXrN3Y",
    "slideshow": {
     "slide_type": "subslide"
    }
   },
   "source": [
    "## `for` loops"
   ]
  },
  {
   "cell_type": "markdown",
   "metadata": {
    "id": "MNheQcigrQOL"
   },
   "source": [
    "Basic example: We want to greet everyone in a list"
   ]
  },
  {
   "cell_type": "code",
   "execution_count": 53,
   "metadata": {
    "id": "of-zrojxrc_z"
   },
   "outputs": [
    {
     "name": "stdout",
     "output_type": "stream",
     "text": [
      "Hello Mark\n",
      "Hello Steve\n",
      "Hello Elon\n",
      "Hello Melinda\n",
      "Hello Bill\n",
      "Hello Angela\n",
      "Hello Melania\n"
     ]
    }
   ],
   "source": [
    "# setting a few names in a list\n",
    "names = ['Mark', 'Steve', 'Elon', 'Melinda', 'Bill', 'Angela', 'Melania']\n",
    "\n",
    "for i in names:\n",
    "  # In this for loop, 'i' is a temporary variable that will be \n",
    "  # set as the current item of the list for the current loop.\n",
    "  # We can name this temporary variable any way we want.\n",
    "  print(f\"Hello {i}\")"
   ]
  },
  {
   "cell_type": "markdown",
   "metadata": {
    "id": "nsVrITENT715",
    "slideshow": {
     "slide_type": "subslide"
    }
   },
   "source": [
    "<img src=\"https://raw.githubusercontent.com/PerfXWeb/python-workshop/master/images/meme_looplaws.jpeg\" width=\"50%\">\n"
   ]
  },
  {
   "cell_type": "markdown",
   "metadata": {
    "id": "A8MYW6yFrz-b",
    "slideshow": {
     "slide_type": "subslide"
    }
   },
   "source": [
    "As always, we can also combine several if-statements and for-loops:"
   ]
  },
  {
   "cell_type": "code",
   "execution_count": 54,
   "metadata": {
    "id": "ca442d-Nt1db"
   },
   "outputs": [
    {
     "name": "stdout",
     "output_type": "stream",
     "text": [
      "Mark has a total balance of: 1588\n",
      "Steve has a total balance of: 1279\n",
      "Elon has a total balance of: 1864\n",
      "Melinda has a total balance of: 1342\n",
      "Bill has a total balance of: 11687\n",
      "Angela has a total balance of: 63\n",
      "Melania has a total balance of: 810\n"
     ]
    }
   ],
   "source": [
    "# setting up names with bank balances (assuming people have several banks)\n",
    "names = [\n",
    "         {'name':'Mark', 'bank_balances':[45,234,964,233,112]},\n",
    "         {'name':'Steve', 'bank_balances':[1234,23,22]},\n",
    "         {'name':'Elon', 'bank_balances':[420,69,365,1010]},\n",
    "         {'name':'Melinda', 'bank_balances':[831,44,244,223]},\n",
    "         {'name':'Bill', 'bank_balances':[34,353,3555,7742,3]},\n",
    "         {'name':'Angela', 'bank_balances':[39,22,2]},\n",
    "         {'name':'Melania', 'bank_balances':[383,335,2,66,24]}\n",
    "        ]\n",
    "\n",
    "for i in names:\n",
    "  if 'name' in i and 'bank_balances' in i: # just checks if the variables we need are set\n",
    "    curr_balance = 0 # we use this variable to add up the balances every time\n",
    "    for value in i['bank_balances']:\n",
    "      curr_balance = curr_balance + value\n",
    "    print(f\"{i['name']} has a total balance of: {curr_balance}\")"
   ]
  },
  {
   "cell_type": "markdown",
   "metadata": {
    "id": "Ve0lw7ZF32I_",
    "slideshow": {
     "slide_type": "subslide"
    }
   },
   "source": [
    "### `range()` function\n",
    "`range()` creates somewhat of a list of numbers with the range you specify. The `for` loop will loop through those numbers."
   ]
  },
  {
   "cell_type": "code",
   "execution_count": 55,
   "metadata": {
    "id": "QcuIwX4B43yw"
   },
   "outputs": [
    {
     "name": "stdout",
     "output_type": "stream",
     "text": [
      "printing number 0 out of 10\n",
      "printing number 1 out of 10\n",
      "printing number 2 out of 10\n",
      "printing number 3 out of 10\n",
      "printing number 4 out of 10\n",
      "printing number 5 out of 10\n",
      "printing number 6 out of 10\n",
      "printing number 7 out of 10\n",
      "printing number 8 out of 10\n",
      "printing number 9 out of 10\n"
     ]
    }
   ],
   "source": [
    "for i in range(10):\n",
    "  print(f\"printing number {i} out of 10\")\n",
    "  # remember, lists start at value 0. This will only count up to number 9"
   ]
  },
  {
   "cell_type": "code",
   "execution_count": 56,
   "metadata": {
    "id": "7Y-HRopk5G5r",
    "slideshow": {
     "slide_type": "fragment"
    }
   },
   "outputs": [
    {
     "name": "stdout",
     "output_type": "stream",
     "text": [
      "printing number 1 out of 10\n",
      "printing number 2 out of 10\n",
      "printing number 3 out of 10\n",
      "printing number 4 out of 10\n",
      "printing number 5 out of 10\n",
      "printing number 6 out of 10\n",
      "printing number 7 out of 10\n",
      "printing number 8 out of 10\n",
      "printing number 9 out of 10\n",
      "printing number 10 out of 10\n"
     ]
    }
   ],
   "source": [
    "# if you want to count from 1 to 10, you have to set a starting number and an end number\n",
    "for i in range(1,11):\n",
    "  print(f\"printing number {i} out of 10\")"
   ]
  },
  {
   "cell_type": "markdown",
   "metadata": {
    "id": "DdxJ8FdQ29qQ",
    "slideshow": {
     "slide_type": "skip"
    }
   },
   "source": [
    "## Advanced: Cool features that work in both `for` and `while` loops\n",
    "* `break` command: Will stop the loop completely\n",
    "* `continue` command: Will stop looping the current item and go on to the next"
   ]
  },
  {
   "cell_type": "markdown",
   "metadata": {
    "id": "NwmQc_oIq9TN",
    "slideshow": {
     "slide_type": "skip"
    }
   },
   "source": [
    "*Advanced If you want to run a loop indefinitely, you can also just use `True` as a condition in `while` loops:*"
   ]
  },
  {
   "cell_type": "code",
   "execution_count": 1,
   "metadata": {
    "id": "Dva1VgaNrH5X",
    "slideshow": {
     "slide_type": "skip"
    }
   },
   "outputs": [
    {
     "ename": "KeyboardInterrupt",
     "evalue": "",
     "output_type": "error",
     "traceback": [
      "\u001b[0;31m---------------------------------------------------------------------------\u001b[0m",
      "\u001b[0;31mKeyboardInterrupt\u001b[0m                         Traceback (most recent call last)",
      "\u001b[0;32m<ipython-input-1-d61f6fd16716>\u001b[0m in \u001b[0;36m<module>\u001b[0;34m\u001b[0m\n\u001b[1;32m      4\u001b[0m \u001b[0;34m\u001b[0m\u001b[0m\n\u001b[1;32m      5\u001b[0m \u001b[0;32mwhile\u001b[0m \u001b[0;32mTrue\u001b[0m\u001b[0;34m:\u001b[0m\u001b[0;34m\u001b[0m\u001b[0;34m\u001b[0m\u001b[0m\n\u001b[0;32m----> 6\u001b[0;31m   \u001b[0;32mif\u001b[0m \u001b[0mtime\u001b[0m\u001b[0;34m.\u001b[0m\u001b[0mtime\u001b[0m\u001b[0;34m(\u001b[0m\u001b[0;34m)\u001b[0m\u001b[0;34m-\u001b[0m\u001b[0mnow\u001b[0m \u001b[0;34m<\u001b[0m \u001b[0;36m10\u001b[0m\u001b[0;34m:\u001b[0m\u001b[0;34m\u001b[0m\u001b[0;34m\u001b[0m\u001b[0m\n\u001b[0m\u001b[1;32m      7\u001b[0m     \u001b[0;32mcontinue\u001b[0m \u001b[0;31m# this will skip the loop until this condition is not met anymore\u001b[0m\u001b[0;34m\u001b[0m\u001b[0;34m\u001b[0m\u001b[0m\n\u001b[1;32m      8\u001b[0m   \u001b[0;32melif\u001b[0m \u001b[0mtime\u001b[0m\u001b[0;34m.\u001b[0m\u001b[0mtime\u001b[0m\u001b[0;34m(\u001b[0m\u001b[0;34m)\u001b[0m\u001b[0;34m-\u001b[0m\u001b[0mnow\u001b[0m \u001b[0;34m>\u001b[0m \u001b[0;36m50\u001b[0m\u001b[0;34m:\u001b[0m\u001b[0;34m\u001b[0m\u001b[0;34m\u001b[0m\u001b[0m\n",
      "\u001b[0;31mKeyboardInterrupt\u001b[0m: "
     ]
    }
   ],
   "source": [
    "# advanced\n",
    "import time\n",
    "now = time.time()\n",
    "\n",
    "while True:\n",
    "  if time.time()-now < 10:\n",
    "    continue # this will skip the loop until this condition is not met anymore\n",
    "  elif time.time()-now > 50:\n",
    "    break # this will stop the while loop completely\n",
    "\n",
    "  print(f\"printing {time.time()-now}\")\n",
    "  time.sleep(5) # this makes the code pause for 5 seconds"
   ]
  },
  {
   "cell_type": "markdown",
   "metadata": {
    "id": "3YOIHYtZDxOB",
    "slideshow": {
     "slide_type": "subslide"
    }
   },
   "source": [
    "## Exercise 5 (another big one)\n",
    "<img src=\"https://raw.githubusercontent.com/PerfXWeb/python-workshop/master/images/pw-groupexercise.png\" width=\"50%\">\n",
    "<img src=\"https://raw.githubusercontent.com/PerfXWeb/python-workshop/master/images/pw-break.png\" width=\"50%\">\n",
    "\n",
    "* You get a list of names, their current capital and their interest rate\n",
    "* We wanna know how much money they have given the capital and interest rate after 10 periods (including compound interest)\n",
    "* do not print anything during the calculation. Save the result in a new `result` dictionary that looks like this:\n",
    " - `result = [{'name':'xyz','new_capital':12345},{'name':'xyz','new_capital':12345},...]`\n",
    "* only print that dictionary at the end"
   ]
  },
  {
   "cell_type": "markdown",
   "metadata": {
    "id": "LEvGmsLRGPXW",
    "slideshow": {
     "slide_type": "fragment"
    }
   },
   "source": [
    "<i>Hints:\n",
    "* use a `for` loop.\n",
    "* Use `result.append()` to append to your result dictionary. (we have used that one before)\n",
    "* have another look at the examples above if you're unsure.</i>"
   ]
  },
  {
   "cell_type": "code",
   "execution_count": 2,
   "metadata": {
    "id": "jvwbSWFQOhH4",
    "slideshow": {
     "slide_type": "subslide"
    }
   },
   "outputs": [],
   "source": [
    "# your variables\n",
    "people = [\n",
    "         {'name':'Mark', 'capital':1000, 'interest':1.034},\n",
    "         {'name':'Steve', 'capital':1241, 'interest':1.159},\n",
    "         {'name':'Elon', 'capital':55320, 'interest':1.078},\n",
    "         {'name':'Melinda', 'capital':882992, 'interest':1.105},\n",
    "         {'name':'Bill', 'capital':3992012, 'interest':1.105},\n",
    "         {'name':'Angela', 'capital':50, 'interest':1.111},\n",
    "         {'name':'Melania', 'capital':99388, 'interest':1.010}\n",
    "        ]"
   ]
  },
  {
   "cell_type": "markdown",
   "metadata": {
    "id": "BKDyHgfRiFx9",
    "slideshow": {
     "slide_type": "subslide"
    }
   },
   "source": [
    "<img src=\"https://raw.githubusercontent.com/PerfXWeb/python-workshop/master/images/pw-menti.png\" width=\"60%\">"
   ]
  },
  {
   "cell_type": "code",
   "execution_count": 3,
   "metadata": {
    "id": "J4ovI385QBf4",
    "slideshow": {
     "slide_type": "subslide"
    }
   },
   "outputs": [
    {
     "name": "stdout",
     "output_type": "stream",
     "text": [
      "[{'name': 'Mark', 'new_capital': 1397.028891079548}, {'name': 'Steve', 'new_capital': 5427.578846018835}, {'name': 'Elon', 'new_capital': 117238.37223026212}, {'name': 'Melinda', 'new_capital': 2396511.674908289}, {'name': 'Bill', 'new_capital': 10834643.30863019}, {'name': 'Angela', 'new_capital': 143.2552654522474}, {'name': 'Melania', 'new_capital': 109786.18380036882}]\n"
     ]
    }
   ],
   "source": [
    "# Solution\n",
    "result = []                                           # creating a place to put our results\n",
    "\n",
    "for person in people:                                 # going through every person\n",
    "  capital = person['capital']                         # setting the capital first\n",
    "  for i in range(10):                                 # going through 10 periods\n",
    "    capital = capital * person['interest']            # adding interest to the previous capital\n",
    "\n",
    "  result.append({'name':person['name'], 'new_capital':capital})\n",
    "                                              # after calculations are done, append person to result\n",
    "\n",
    "print(result)"
   ]
  },
  {
   "cell_type": "markdown",
   "metadata": {
    "id": "ftr_aSarSk2z",
    "slideshow": {
     "slide_type": "slide"
    }
   },
   "source": [
    "# 4 - Functions\n",
    "*write code once, use it several times*"
   ]
  },
  {
   "cell_type": "markdown",
   "metadata": {
    "id": "92oLn0nZTQIS",
    "slideshow": {
     "slide_type": "fragment"
    }
   },
   "source": [
    "We have already used functions before in our code:\n",
    "```python\n",
    "print(\"hello world\") # prints something onto the display\n",
    "len(variable) # returns the length of a string or array\n",
    "del(variable[2]) # deletes an item out of a list\n",
    "```"
   ]
  },
  {
   "cell_type": "markdown",
   "metadata": {
    "id": "2aF-00lPVRhJ",
    "slideshow": {
     "slide_type": "fragment"
    }
   },
   "source": [
    "Now we are going to learn how to create our own functions"
   ]
  },
  {
   "cell_type": "markdown",
   "metadata": {
    "id": "E9kLT5BjWLbT",
    "slideshow": {
     "slide_type": "subslide"
    }
   },
   "source": [
    "## Defining a function\n",
    "Works like this:"
   ]
  },
  {
   "cell_type": "code",
   "execution_count": 4,
   "metadata": {
    "id": "5R91jtr9WQL3"
   },
   "outputs": [],
   "source": [
    "def myfunction():\n",
    "  print(\"Every time I call this function, this is printed\")"
   ]
  },
  {
   "cell_type": "markdown",
   "metadata": {
    "id": "-EX2u9C3WWOB",
    "slideshow": {
     "slide_type": "fragment"
    }
   },
   "source": [
    "now we can call this function"
   ]
  },
  {
   "cell_type": "code",
   "execution_count": 5,
   "metadata": {
    "id": "UJMtoX4kWYVq"
   },
   "outputs": [
    {
     "name": "stdout",
     "output_type": "stream",
     "text": [
      "Every time I call this function, this is printed\n"
     ]
    }
   ],
   "source": [
    "myfunction()"
   ]
  },
  {
   "cell_type": "markdown",
   "metadata": {
    "id": "yBGHmRUxWbZb",
    "slideshow": {
     "slide_type": "subslide"
    }
   },
   "source": [
    "## Adding arguments\n",
    "Works like this:"
   ]
  },
  {
   "cell_type": "code",
   "execution_count": 6,
   "metadata": {
    "id": "5SAUh56LWjA4"
   },
   "outputs": [],
   "source": [
    "def greeting(name):\n",
    "  print(f\"This is a message for {name}\")"
   ]
  },
  {
   "cell_type": "markdown",
   "metadata": {
    "id": "BhfHUBPRWu5k",
    "slideshow": {
     "slide_type": "fragment"
    }
   },
   "source": [
    "now we can call this function using a parameter"
   ]
  },
  {
   "cell_type": "code",
   "execution_count": 7,
   "metadata": {
    "id": "SEcOBfk_WyEO"
   },
   "outputs": [
    {
     "name": "stdout",
     "output_type": "stream",
     "text": [
      "This is a message for Elena\n",
      "This is a message for John\n"
     ]
    }
   ],
   "source": [
    "greeting(\"Elena\")\n",
    "greeting(\"John\")"
   ]
  },
  {
   "cell_type": "markdown",
   "metadata": {
    "id": "JjNOzti1XU2R",
    "slideshow": {
     "slide_type": "fragment"
    }
   },
   "source": [
    "Now, if we don't define this argument, the function will fail:"
   ]
  },
  {
   "cell_type": "code",
   "execution_count": 8,
   "metadata": {
    "id": "uOjXXeCFXbNy"
   },
   "outputs": [
    {
     "ename": "TypeError",
     "evalue": "greeting() missing 1 required positional argument: 'name'",
     "output_type": "error",
     "traceback": [
      "\u001b[0;31m---------------------------------------------------------------------------\u001b[0m",
      "\u001b[0;31mTypeError\u001b[0m                                 Traceback (most recent call last)",
      "\u001b[0;32m<ipython-input-8-b450c4c5145c>\u001b[0m in \u001b[0;36m<module>\u001b[0;34m\u001b[0m\n\u001b[1;32m      1\u001b[0m \u001b[0;31m# this will NOT work\u001b[0m\u001b[0;34m\u001b[0m\u001b[0;34m\u001b[0m\u001b[0;34m\u001b[0m\u001b[0m\n\u001b[0;32m----> 2\u001b[0;31m \u001b[0mgreeting\u001b[0m\u001b[0;34m(\u001b[0m\u001b[0;34m)\u001b[0m\u001b[0;34m\u001b[0m\u001b[0;34m\u001b[0m\u001b[0m\n\u001b[0m",
      "\u001b[0;31mTypeError\u001b[0m: greeting() missing 1 required positional argument: 'name'"
     ]
    }
   ],
   "source": [
    "# this will NOT work\n",
    "greeting()"
   ]
  },
  {
   "cell_type": "markdown",
   "metadata": {
    "id": "EwOgoiwzYSu4",
    "slideshow": {
     "slide_type": "subslide"
    }
   },
   "source": [
    "What we can do so this doesn't happen: Pre-define arguments"
   ]
  },
  {
   "cell_type": "code",
   "execution_count": 9,
   "metadata": {
    "id": "LZfHJpoYYapJ"
   },
   "outputs": [],
   "source": [
    "def greeting2(name=\"Elton\"):\n",
    "  print(f\"This is a message for {name}\")"
   ]
  },
  {
   "cell_type": "markdown",
   "metadata": {
    "id": "9dLHRIK_Y54G",
    "slideshow": {
     "slide_type": "fragment"
    }
   },
   "source": [
    "Now, we can call this variable *with* or *without* setting the parameter:"
   ]
  },
  {
   "cell_type": "code",
   "execution_count": 10,
   "metadata": {
    "id": "vcxVdYMFZRNc"
   },
   "outputs": [
    {
     "name": "stdout",
     "output_type": "stream",
     "text": [
      "This is a message for Elton\n",
      "This is a message for Jessica\n"
     ]
    }
   ],
   "source": [
    "greeting2()\n",
    "greeting2(\"Jessica\")"
   ]
  },
  {
   "cell_type": "markdown",
   "metadata": {
    "id": "j2EBHPdkZjuF",
    "slideshow": {
     "slide_type": "subslide"
    }
   },
   "source": [
    "## Returning a result from a function\n",
    "Let's create a function that calculates interest:"
   ]
  },
  {
   "cell_type": "code",
   "execution_count": 11,
   "metadata": {
    "id": "4sWJa6jiabSw"
   },
   "outputs": [],
   "source": [
    "def calculate_interest(capital, interest, years):\n",
    "  for i in range(years):\n",
    "    capital = round(capital*interest, 3)\n",
    "  \n",
    "  # now return the result (without printing)\n",
    "  return capital"
   ]
  },
  {
   "cell_type": "markdown",
   "metadata": {
    "id": "z91fNeJ8bAh1",
    "slideshow": {
     "slide_type": "fragment"
    }
   },
   "source": [
    "Now, using that function, we can calculate interest really quickly:"
   ]
  },
  {
   "cell_type": "code",
   "execution_count": 12,
   "metadata": {
    "id": "2NQt54EwbQ7d"
   },
   "outputs": [
    {
     "name": "stdout",
     "output_type": "stream",
     "text": [
      "We calculated a future capital of 2078.928\n",
      "We calculated a future capital of 2078.928\n"
     ]
    }
   ],
   "source": [
    "my_interest = calculate_interest(1000, 1.05, 15)\n",
    "print(f\"We calculated a future capital of {my_interest}\")\n",
    "\n",
    "# or we could also just use:\n",
    "print(f\"We calculated a future capital of {calculate_interest(1000, 1.05, 15)}\")"
   ]
  },
  {
   "cell_type": "markdown",
   "metadata": {
    "id": "8ddsCGJZceri",
    "slideshow": {
     "slide_type": "subslide"
    }
   },
   "source": [
    "## Exercise 6\n",
    "\n",
    "<img src=\"https://raw.githubusercontent.com/PerfXWeb/python-workshop/master/images/pw-groupexercise.png\" width=\"50%\">"
   ]
  },
  {
   "cell_type": "markdown",
   "metadata": {
    "id": "bK5RbMNgdEEE"
   },
   "source": [
    "Create a function that returns the average of three given numbers. The result should look like this:\n",
    "```python\n",
    "result = average_calc(11, 13, 25)\n",
    "print(result)\n",
    "```"
   ]
  },
  {
   "cell_type": "markdown",
   "metadata": {
    "id": "vf5f1y3qhi7Q",
    "slideshow": {
     "slide_type": "fragment"
    }
   },
   "source": [
    "*Bonus: Functions support lists (`[11, 13, 25]`) as a parameter. If possible, create a function that returns the average of any amount of numbers.*"
   ]
  },
  {
   "cell_type": "code",
   "execution_count": 13,
   "metadata": {
    "id": "ZpvvSsVlhoQr",
    "slideshow": {
     "slide_type": "subslide"
    }
   },
   "outputs": [
    {
     "name": "stdout",
     "output_type": "stream",
     "text": [
      "16.333333333333332\n"
     ]
    }
   ],
   "source": [
    "# Solution\n",
    "def average_calc(no1, no2, no3):\n",
    "  return (no1+no2+no3)/3\n",
    "\n",
    "\n",
    "result = average_calc(11, 13, 25)\n",
    "print(result)"
   ]
  },
  {
   "cell_type": "code",
   "execution_count": 14,
   "metadata": {
    "id": "NBUVX-CjidZ2",
    "slideshow": {
     "slide_type": "fragment"
    }
   },
   "outputs": [
    {
     "name": "stdout",
     "output_type": "stream",
     "text": [
      "16.333333333333332\n",
      "28.666666666666668\n"
     ]
    }
   ],
   "source": [
    "# Solution (Bonus)\n",
    "def average_calc(numbers):\n",
    "  sum = 0\n",
    "  for i in numbers:\n",
    "    sum = sum + i\n",
    "  return sum/len(numbers)\n",
    "\n",
    "\n",
    "result = average_calc([11, 13, 25])\n",
    "print(result)\n",
    "result = average_calc([11, 13, 25, 22, 2, 99])\n",
    "print(result)"
   ]
  },
  {
   "cell_type": "markdown",
   "metadata": {
    "id": "EiJV1m43Za4w",
    "slideshow": {
     "slide_type": "subslide"
    }
   },
   "source": [
    "**Break?**"
   ]
  },
  {
   "cell_type": "markdown",
   "metadata": {
    "id": "RENDiAR-jdCn",
    "slideshow": {
     "slide_type": "slide"
    }
   },
   "source": [
    "# 5 - Classes and object\n",
    "*Something really advanced .... But it's good to know the basics of object-orientation*"
   ]
  },
  {
   "cell_type": "markdown",
   "metadata": {
    "id": "7xsyJl7NmDzF",
    "slideshow": {
     "slide_type": "fragment"
    }
   },
   "source": [
    "The main reason why we learn what classes are:\n",
    "* Basically everything"
   ]
  },
  {
   "cell_type": "markdown",
   "metadata": {
    "id": "82PsSx9HlVUb",
    "slideshow": {
     "slide_type": "subslide"
    }
   },
   "source": [
    "## The Big Picture\n",
    "classes, objects, methods (basically functions), attributes"
   ]
  },
  {
   "cell_type": "markdown",
   "metadata": {
    "id": "GK4B6tUXpaXe"
   },
   "source": [
    "![picture](https://raw.githubusercontent.com/PerfXWeb/python-workshop/master/images/ed_classes-objects-methods-attributes.png)"
   ]
  },
  {
   "cell_type": "markdown",
   "metadata": {
    "id": "u6cnGdNtpzvo",
    "slideshow": {
     "slide_type": "subslide"
    }
   },
   "source": [
    "* A **class** is the blueprint to create objects\n",
    " - You can create as many objects from one class as you like\n",
    " - You can also pass arguments while creating an object\n",
    "* An **object** preserves both attributes (data) and methods (functions)\n",
    " - It's basically a mix between an array and a bunch of functions.\n",
    "* **Methods** are functions that can be executed within an object.\n",
    "* **Attributes** save values of an object"
   ]
  },
  {
   "cell_type": "markdown",
   "metadata": {
    "id": "ACLUEIVUq8xE",
    "slideshow": {
     "slide_type": "subslide"
    }
   },
   "source": [
    "## And it looks like this"
   ]
  },
  {
   "cell_type": "code",
   "execution_count": 15,
   "metadata": {
    "id": "SCe5MkU7q-FQ"
   },
   "outputs": [],
   "source": [
    "# creating a class\n",
    "class Tree():\n",
    "  # the __init__ function (two underscores left and right) is only being executed ONCE \n",
    "  # when you create a new object.\n",
    "  def __init__(self, branches, apples):\n",
    "    # every object automatically passes ITSELF to every function. It is commonly defined as \"self\"\n",
    "    # We ALWAYS need to define this \"self\" argument at the beginning of each object function\n",
    "    self.branches = branches\n",
    "    self.apples = apples\n",
    "    self.carved_in_names = []\n",
    "\n",
    "  def carve(self, name):\n",
    "    self.carved_in_names.append(name)\n",
    "    print(f\"Successfully carved in {name}\")\n",
    "    # if we want, we can return something, but we don't really have to\n",
    "    return self.carved_in_names\n",
    "\n",
    "  def look_at_carved_names(self):\n",
    "    print(f\"Look at all these carved in names: {self.carved_in_names}\")\n"
   ]
  },
  {
   "cell_type": "code",
   "execution_count": 16,
   "metadata": {
    "id": "8M1IG4uAPSnZ",
    "slideshow": {
     "slide_type": "fragment"
    }
   },
   "outputs": [],
   "source": [
    "# now, we'll create two different trees\n",
    "tree1 = Tree(8, 15)\n",
    "tree2 = Tree(3, 0)"
   ]
  },
  {
   "cell_type": "code",
   "execution_count": 17,
   "metadata": {
    "id": "iAO1Gco0P2FT",
    "slideshow": {
     "slide_type": "subslide"
    }
   },
   "outputs": [
    {
     "name": "stdout",
     "output_type": "stream",
     "text": [
      "8\n",
      "0\n",
      "10\n"
     ]
    }
   ],
   "source": [
    "# we can check for the number of branches and apples (=attributes) in each tree like this:\n",
    "print(tree1.branches)\n",
    "print(tree2.apples)\n",
    "\n",
    "# we can also change it:\n",
    "tree1.branches = 10\n",
    "print(tree1.branches)"
   ]
  },
  {
   "cell_type": "code",
   "execution_count": 18,
   "metadata": {
    "id": "5nyFmyIFQGWH",
    "slideshow": {
     "slide_type": "fragment"
    }
   },
   "outputs": [
    {
     "name": "stdout",
     "output_type": "stream",
     "text": [
      "Successfully carved in Matthias\n",
      "Successfully carved in Brad\n",
      "Successfully carved in Sophie\n",
      "Look at all these carved in names: ['Brad', 'Sophie']\n"
     ]
    }
   ],
   "source": [
    "# now let's carve in some names into our trees using methods:\n",
    "tree1.carve(\"Matthias\")\n",
    "tree2.carve(\"Brad\")\n",
    "tree2.carve(\"Sophie\")\n",
    "\n",
    "# and we can check out the number of carved-in names by performing our other method:\n",
    "tree2.look_at_carved_names()"
   ]
  },
  {
   "cell_type": "markdown",
   "metadata": {
    "id": "0lnFaqDTSgzu",
    "slideshow": {
     "slide_type": "subslide"
    }
   },
   "source": [
    "## Exercise 7 (the last one)\n",
    "<img src=\"https://raw.githubusercontent.com/PerfXWeb/python-workshop/master/images/pw-groupexercise.png\" width=\"50%\">"
   ]
  },
  {
   "cell_type": "markdown",
   "metadata": {
    "id": "7Ai-BL1ibA1I"
   },
   "source": [
    "* create a class called `Flipflop` with an integer `div` (a number) as an argument\n",
    " - `check1 = FlipFlop(3)`\n",
    "* create a method `divisible` (=function) in that class with another integer `maxint` as an argument. The function shall loop x times and print out \"flip\", whenever the current number is not divisible by `div`, or print out \"flop\", whenever the current number *is* divisible by `div`.\n",
    " - `check1.divisible(100)`\n",
    "\n",
    "This shall print out:\n",
    "```\n",
    "0: flop    # flop first, because we always start at 0\n",
    "1: flip\n",
    "2: flip\n",
    "3: flop\n",
    "4: flip\n",
    "5: flip\n",
    "6: flop\n",
    "...\n",
    "```"
   ]
  },
  {
   "cell_type": "markdown",
   "metadata": {
    "id": "dpx5LDQvfUXL",
    "slideshow": {
     "slide_type": "subslide"
    }
   },
   "source": [
    "<i>Bonus exercise:\n",
    "* Create another method `divisible_or_self` that not only prints \"flop\" when the number is divisible by `div` but also if one of the digits of the current number is equal to `div`\n",
    " - e.g. if `div` is 3, then the number 13, 133 or 35 should \"flop\" as well</i>"
   ]
  },
  {
   "cell_type": "markdown",
   "metadata": {
    "id": "h_BOoivlhiOz",
    "slideshow": {
     "slide_type": "subslide"
    }
   },
   "source": [
    "**Important:** Google it, if you don't know how to do it.\n",
    "\n",
    "E.g. \"Python check if divisible\""
   ]
  },
  {
   "cell_type": "markdown",
   "metadata": {
    "id": "xvwxQBIJiNdt",
    "slideshow": {
     "slide_type": "subslide"
    }
   },
   "source": [
    "<img src=\"https://raw.githubusercontent.com/PerfXWeb/python-workshop/master/images/pw-menti.png\" width=\"60%\">"
   ]
  },
  {
   "cell_type": "code",
   "execution_count": 19,
   "metadata": {
    "id": "IsADtxAEg9Tn",
    "slideshow": {
     "slide_type": "subslide"
    }
   },
   "outputs": [
    {
     "name": "stdout",
     "output_type": "stream",
     "text": [
      "0: Flop\n",
      "1: Flip\n",
      "2: Flip\n",
      "3: Flop\n",
      "4: Flip\n",
      "5: Flip\n",
      "6: Flop\n",
      "7: Flip\n",
      "8: Flip\n",
      "9: Flop\n",
      "10: Flip\n",
      "11: Flip\n",
      "12: Flop\n",
      "13: Flip\n",
      "14: Flip\n",
      "15: Flop\n",
      "16: Flip\n",
      "17: Flip\n",
      "18: Flop\n",
      "19: Flip\n",
      "20: Flip\n",
      "21: Flop\n",
      "22: Flip\n",
      "23: Flip\n",
      "24: Flop\n",
      "25: Flip\n",
      "26: Flip\n",
      "27: Flop\n",
      "28: Flip\n",
      "29: Flip\n",
      "30: Flop\n",
      "31: Flip\n",
      "32: Flip\n",
      "33: Flop\n",
      "34: Flip\n",
      "35: Flip\n",
      "36: Flop\n",
      "37: Flip\n",
      "38: Flip\n",
      "39: Flop\n",
      "40: Flip\n",
      "41: Flip\n",
      "42: Flop\n",
      "43: Flip\n",
      "44: Flip\n",
      "45: Flop\n",
      "46: Flip\n",
      "47: Flip\n",
      "48: Flop\n",
      "49: Flip\n",
      "50: Flip\n",
      "51: Flop\n",
      "52: Flip\n",
      "53: Flip\n",
      "54: Flop\n",
      "55: Flip\n",
      "56: Flip\n",
      "57: Flop\n",
      "58: Flip\n",
      "59: Flip\n",
      "60: Flop\n",
      "61: Flip\n",
      "62: Flip\n",
      "63: Flop\n",
      "64: Flip\n",
      "65: Flip\n",
      "66: Flop\n",
      "67: Flip\n",
      "68: Flip\n",
      "69: Flop\n",
      "70: Flip\n",
      "71: Flip\n",
      "72: Flop\n",
      "73: Flip\n",
      "74: Flip\n",
      "75: Flop\n",
      "76: Flip\n",
      "77: Flip\n",
      "78: Flop\n",
      "79: Flip\n",
      "80: Flip\n",
      "81: Flop\n",
      "82: Flip\n",
      "83: Flip\n",
      "84: Flop\n",
      "85: Flip\n",
      "86: Flip\n",
      "87: Flop\n",
      "88: Flip\n",
      "89: Flip\n",
      "90: Flop\n",
      "91: Flip\n",
      "92: Flip\n",
      "93: Flop\n",
      "94: Flip\n",
      "95: Flip\n",
      "96: Flop\n",
      "97: Flip\n",
      "98: Flip\n",
      "99: Flop\n"
     ]
    }
   ],
   "source": [
    "# Solution\n",
    "\n",
    "class FlipFlop():\n",
    "  def __init__(self, div):\n",
    "    self.div = div\n",
    "\n",
    "  def divisible(self, maxint):\n",
    "    for x in range(maxint):\n",
    "      if x % self.div == 0:\n",
    "        print(f\"{x}: Flop\")\n",
    "      else:\n",
    "        print(f\"{x}: Flip\")\n",
    "\n",
    "\n",
    "check1 = FlipFlop(3)\n",
    "check1.divisible(100)"
   ]
  },
  {
   "cell_type": "code",
   "execution_count": 20,
   "metadata": {
    "id": "e0g9xTLEkQRe",
    "slideshow": {
     "slide_type": "subslide"
    }
   },
   "outputs": [
    {
     "name": "stdout",
     "output_type": "stream",
     "text": [
      "0: Flop\n",
      "1: Flip\n",
      "2: Flip\n",
      "3: Flop\n",
      "4: Flip\n",
      "5: Flip\n",
      "6: Flop\n",
      "7: Flip\n",
      "8: Flip\n",
      "9: Flop\n",
      "10: Flip\n",
      "11: Flip\n",
      "12: Flop\n",
      "13: Flop\n",
      "14: Flip\n",
      "15: Flop\n",
      "16: Flip\n",
      "17: Flip\n",
      "18: Flop\n",
      "19: Flip\n",
      "20: Flip\n",
      "21: Flop\n",
      "22: Flip\n",
      "23: Flop\n",
      "24: Flop\n",
      "25: Flip\n",
      "26: Flip\n",
      "27: Flop\n",
      "28: Flip\n",
      "29: Flip\n",
      "30: Flop\n",
      "31: Flop\n",
      "32: Flop\n",
      "33: Flop\n",
      "34: Flop\n",
      "35: Flop\n",
      "36: Flop\n",
      "37: Flop\n",
      "38: Flop\n",
      "39: Flop\n",
      "40: Flip\n",
      "41: Flip\n",
      "42: Flop\n",
      "43: Flop\n",
      "44: Flip\n",
      "45: Flop\n",
      "46: Flip\n",
      "47: Flip\n",
      "48: Flop\n",
      "49: Flip\n",
      "50: Flip\n",
      "51: Flop\n",
      "52: Flip\n",
      "53: Flop\n",
      "54: Flop\n",
      "55: Flip\n",
      "56: Flip\n",
      "57: Flop\n",
      "58: Flip\n",
      "59: Flip\n",
      "60: Flop\n",
      "61: Flip\n",
      "62: Flip\n",
      "63: Flop\n",
      "64: Flip\n",
      "65: Flip\n",
      "66: Flop\n",
      "67: Flip\n",
      "68: Flip\n",
      "69: Flop\n",
      "70: Flip\n",
      "71: Flip\n",
      "72: Flop\n",
      "73: Flop\n",
      "74: Flip\n",
      "75: Flop\n",
      "76: Flip\n",
      "77: Flip\n",
      "78: Flop\n",
      "79: Flip\n",
      "80: Flip\n",
      "81: Flop\n",
      "82: Flip\n",
      "83: Flop\n",
      "84: Flop\n",
      "85: Flip\n",
      "86: Flip\n",
      "87: Flop\n",
      "88: Flip\n",
      "89: Flip\n",
      "90: Flop\n",
      "91: Flip\n",
      "92: Flip\n",
      "93: Flop\n",
      "94: Flip\n",
      "95: Flip\n",
      "96: Flop\n",
      "97: Flip\n",
      "98: Flip\n",
      "99: Flop\n"
     ]
    }
   ],
   "source": [
    "# Solution (incl. bonus)\n",
    "\n",
    "class FlipFlop():\n",
    "  def __init__(self, div):\n",
    "    self.div = div\n",
    "\n",
    "  def divisible(self, maxint):\n",
    "    for x in range(maxint):\n",
    "      if x % self.div == 0:\n",
    "        print(f\"{x}: Flop\")\n",
    "      else:\n",
    "        print(f\"{x}: Flip\")\n",
    "\n",
    "  def divisible_or_self(self, maxint):\n",
    "    for x in range(maxint):\n",
    "      if x % self.div == 0 or str(self.div) in str(x):\n",
    "                              # to check every digit, we have to use str() to convert it.\n",
    "                              # otherwise we get an \"argument of type 'int' is not iterable\" error.\n",
    "        print(f\"{x}: Flop\")\n",
    "      else:\n",
    "        print(f\"{x}: Flip\")\n",
    "\n",
    "\n",
    "check1 = FlipFlop(3)\n",
    "check1.divisible_or_self(100)"
   ]
  },
  {
   "cell_type": "markdown",
   "metadata": {
    "id": "Lw2DoivBl5y-",
    "slideshow": {
     "slide_type": "slide"
    }
   },
   "source": [
    "# 6 - Imports\n",
    "*You can now do more with Python than you think*"
   ]
  },
  {
   "cell_type": "markdown",
   "metadata": {
    "id": "PfojPhlbmOvS"
   },
   "source": [
    "So far, we have learnt a lot about the Python syntax... but some of you might think they still can't really program anything useful."
   ]
  },
  {
   "cell_type": "markdown",
   "metadata": {
    "id": "_4hHY9_FSn6p",
    "slideshow": {
     "slide_type": "subslide"
    }
   },
   "source": [
    "<img src=\"https://raw.githubusercontent.com/PerfXWeb/python-workshop/master/images/meme-imports.jpg\" width=\"50%\">"
   ]
  },
  {
   "cell_type": "markdown",
   "metadata": {
    "id": "DZHPIHGVno7a",
    "slideshow": {
     "slide_type": "subslide"
    }
   },
   "source": [
    "YOU can actually now achieve ANYTHING with imports!\n",
    "* By using the `import` command, you can include modules into your code that save you a LOT of time\n",
    "* an imported module works very similar to Python classes and objects *(that's why we learnt it)*\n",
    "* To find out which modules you want/need and how they work:"
   ]
  },
  {
   "cell_type": "markdown",
   "metadata": {
    "id": "GAshY-JqpaLO",
    "slideshow": {
     "slide_type": "fragment"
    }
   },
   "source": [
    "**GOOGLE is your best friend**"
   ]
  },
  {
   "cell_type": "markdown",
   "metadata": {
    "id": "RF9NQWLhpg50",
    "slideshow": {
     "slide_type": "subslide"
    }
   },
   "source": [
    "Some examples of useful modules:"
   ]
  },
  {
   "cell_type": "code",
   "execution_count": null,
   "metadata": {
    "id": "g5BZWlfsn6kl"
   },
   "outputs": [],
   "source": [
    "import time # we have already used the time module before\n",
    "\n",
    "print(time.time()) # prints out UNIX timestamp (number of seconds since Jan 1 1970)\n",
    "time.sleep(5) # waits for 5 seconds\n",
    "print(time.time())"
   ]
  },
  {
   "cell_type": "markdown",
   "metadata": {
    "id": "M5yftbHKrOn0",
    "slideshow": {
     "slide_type": "subslide"
    }
   },
   "source": [
    "A good example of how I failed to use this API (Application Programming Interface):"
   ]
  },
  {
   "cell_type": "code",
   "execution_count": null,
   "metadata": {
    "id": "0wXp0AQqpwoQ"
   },
   "outputs": [],
   "source": [
    "import requests\n",
    "\n",
    "# Chuck Norris API: https://api.chucknorris.io\n",
    "\n",
    "joke = requests.get(\"https://api.chucknorris.io/jokes/random\")\n",
    "print(joke) # this usually prints out everything.\n",
    "            # Unfortunately, \"joke\" is now an object, so we don't see anything\n",
    "print(joke.__dict__) # __dict__ shows you every attribute of an object. That way we can find out more.\n",
    "print(joke.content['value']) # I wanted to print out the value, but it didn't work\n",
    "\n",
    "# Looked it up on Google..."
   ]
  },
  {
   "cell_type": "markdown",
   "metadata": {
    "id": "wVh0qqMlsINP",
    "slideshow": {
     "slide_type": "fragment"
    }
   },
   "source": [
    "Solved it using [this Stackoverflow post](https://stackoverflow.com/questions/52102398/typeerror-byte-indices-must-be-integers-or-slices-not-str/52102506)."
   ]
  },
  {
   "cell_type": "code",
   "execution_count": null,
   "metadata": {
    "id": "B6ygLxQfr6VP",
    "slideshow": {
     "slide_type": "subslide"
    }
   },
   "outputs": [],
   "source": [
    "# turns out I need to convert from a JSON format into a normal Python dictionary format\n",
    "import requests\n",
    "import json \n",
    "\n",
    "joke = requests.get(\"https://api.chucknorris.io/jokes/random\")\n",
    "result = json.loads(joke.content)\n",
    "print(result['value'])\n"
   ]
  },
  {
   "cell_type": "markdown",
   "metadata": {
    "id": "eEfsRE-fsjN4",
    "slideshow": {
     "slide_type": "subslide"
    }
   },
   "source": [
    "Another useful example:"
   ]
  },
  {
   "cell_type": "code",
   "execution_count": null,
   "metadata": {
    "id": "o9P3HgYHslB0"
   },
   "outputs": [],
   "source": [
    "# this uses a module within a module (matplotlib.pyplot) and renames it to plt\n",
    "import matplotlib.pyplot as plt\n",
    "# we can always rename modules to write less code\n",
    "import numpy as np \n",
    "\n",
    "xpoints = np.array([0, 6, 10, 15, 20, 22]) # creates an array (a REAL array) with all x-values\n",
    "ypoints = np.array([0, 250, 300, 222, 343, 350]) # same for y-values.\n",
    "# Both arrays need to have the same amount of values!\n",
    "\n",
    "plt.plot(xpoints, ypoints) # this plots all values into a graph\n",
    "plt.show() # this shows it on the display (similar to print)"
   ]
  },
  {
   "cell_type": "markdown",
   "metadata": {
    "id": "6noCL5mK41Ew",
    "slideshow": {
     "slide_type": "fragment"
    }
   },
   "source": [
    "We can already guess what this code does by looking at the names of the objects and methods. If we are still unsure, we can just [google it](https://www.google.com/search?q=python+plt.plot&ie=UTF-8&oe=UTF-8)."
   ]
  },
  {
   "cell_type": "markdown",
   "metadata": {
    "id": "3agMNbsctspP",
    "slideshow": {
     "slide_type": "subslide"
    }
   },
   "source": [
    "Now guess what this code does:"
   ]
  },
  {
   "cell_type": "code",
   "execution_count": null,
   "metadata": {
    "id": "XrvZ137P2FGE"
   },
   "outputs": [],
   "source": [
    "import selenium_framework \n",
    "# selenium_framework is a module I built myself. The usual approach would be \"import selenium\"\n",
    "# Selenium itself does exactly the same as I do here, yet it requires a bit more code.\n",
    "# If you are able to install Python, pip and selenium on your computer successfully, message me....\n",
    "# .... I will send you the selenium_framework module via Gitlab.\n",
    "import time\n",
    "\n",
    "username = \"h11706787\"\n",
    "password = \"XXXXXXXXXXXX\"\n",
    "course = \"International Diversity Management\"\n",
    "lv_number = \"1052\"\n",
    "\n",
    "sf = selenium_framework.SeleniumBrowser(\"macos\")\n",
    "\n",
    "sf.start_driver()\n",
    "driver = sf.driver\n",
    "\n",
    "driver.get(\"https://lpis.wu.ac.at/lpis\")\n",
    "time.sleep(3)\n",
    "sf.find_xpath('//input[@type=\"text\"]').send_keys(username)\n",
    "time.sleep(1)\n",
    "sf.find_xpath('//input[@type=\"password\"]').send_keys(password)\n",
    "time.sleep(1)\n",
    "sf.find_xpath('//input[@type=\"submit\"]').click()\n",
    "time.sleep(5)\n",
    "sf.find_xpath(f\"//span[text()='{course}']/ancestor::td//a[contains(text(),'anmelden')]\").click()\n",
    "time.sleep(5)\n",
    "sf.find_xpath(f\"//a[text()='{1052}']/ancestor::tr//input[@type='submit']\").click()\n"
   ]
  },
  {
   "cell_type": "markdown",
   "metadata": {
    "id": "2QqfMoq52jht",
    "slideshow": {
     "slide_type": "fragment"
    }
   },
   "source": [
    "Yes. This automatically signs you up to a course in LPIS."
   ]
  },
  {
   "cell_type": "markdown",
   "metadata": {
    "id": "AkekhX6J2q0e",
    "slideshow": {
     "slide_type": "slide"
    }
   },
   "source": [
    "# That's it!\n",
    "*What a journey this has been!*"
   ]
  },
  {
   "cell_type": "markdown",
   "metadata": {
    "id": "c2JK8HmjMSQK",
    "slideshow": {
     "slide_type": "fragment"
    }
   },
   "source": [
    "**Before we wrap this up:**\n",
    "\n",
    "Please fill out my [feedback form](https://docs.google.com/forms/d/e/1FAIpQLSfz0qirMK1G1DtYc3ewM89n-bFEbhIibKPnOwXnPn8O7LPbpw/viewform?usp=sf_link)"
   ]
  },
  {
   "cell_type": "markdown",
   "metadata": {
    "id": "KVDVjr56Ay5_",
    "slideshow": {
     "slide_type": "subslide"
    }
   },
   "source": [
    "## Some final tips from the pro programmers"
   ]
  },
  {
   "cell_type": "markdown",
   "metadata": {
    "id": "sDQzah-uA5dp",
    "slideshow": {
     "slide_type": "fragment"
    }
   },
   "source": [
    "* **COMMENT your code** or else it will get real messy real fast"
   ]
  },
  {
   "cell_type": "markdown",
   "metadata": {
    "id": "8itHr0aqUJ27",
    "slideshow": {
     "slide_type": "fragment"
    }
   },
   "source": [
    "<img src=\"https://raw.githubusercontent.com/PerfXWeb/python-workshop/master/images/meme_no-comment-elvish.png\" width=\"50%\">\n"
   ]
  },
  {
   "cell_type": "markdown",
   "metadata": {
    "id": "DCvgkUUTUR53",
    "slideshow": {
     "slide_type": "subslide"
    }
   },
   "source": [
    "<img src=\"https://raw.githubusercontent.com/PerfXWeb/python-workshop/master/images/meme_no-comment_no-idea.jpg\" width=\"50%\">"
   ]
  },
  {
   "cell_type": "markdown",
   "metadata": {
    "id": "YElqxnFiBAqB",
    "slideshow": {
     "slide_type": "subslide"
    }
   },
   "source": [
    "* Most of the projects have already been done. Copy code from Github or other sources and adapt them to your desire. Just GOOGLE IT!"
   ]
  },
  {
   "cell_type": "markdown",
   "metadata": {
    "id": "M1Su4btWBOKQ",
    "slideshow": {
     "slide_type": "fragment"
    }
   },
   "source": [
    "* Most of the work while programming is finding out how stuff works and bug fixing. Don't get frustrated too quickly"
   ]
  },
  {
   "cell_type": "markdown",
   "metadata": {
    "id": "fdcdx9023ohc",
    "slideshow": {
     "slide_type": "subslide"
    }
   },
   "source": [
    "## What we learnt\n",
    "* A LOT about the syntax of Python\n",
    " - Data types (strings, integers, floats, booleans, lists, dictionaries)\n",
    " - If-sentences (nested ifs, elif,...)\n",
    " - Loops (while, for, range() function)\n",
    " - Functions (arguments in functions, return,...)\n",
    " - Classes and objects\n",
    " - Imports (plus examples)"
   ]
  },
  {
   "cell_type": "markdown",
   "metadata": {
    "id": "UXSZOMt74Owk",
    "slideshow": {
     "slide_type": "fragment"
    }
   },
   "source": [
    "* How to read error messages\n",
    "* Where and how to look for solutions (Google, Stackoverflow)\n",
    "\n",
    "Last step:"
   ]
  },
  {
   "cell_type": "markdown",
   "metadata": {
    "id": "_Dj_FWB6GKrd",
    "slideshow": {
     "slide_type": "subslide"
    }
   },
   "source": [
    "# Where to go from here?"
   ]
  },
  {
   "cell_type": "markdown",
   "metadata": {
    "id": "dVVjGyA07aX-",
    "slideshow": {
     "slide_type": "fragment"
    }
   },
   "source": [
    "## What you might wanna do now\n",
    "\n",
    "* Go find something you want to program yourself\n",
    "* Have a look at some APIs out there (social medai APIs, stock market APIs, Google Docs APIs,...)\n",
    "* Use Python to calculate or automate stuff."
   ]
  },
  {
   "cell_type": "markdown",
   "metadata": {
    "id": "R0p8YuEh7k_O",
    "slideshow": {
     "slide_type": "fragment"
    }
   },
   "source": [
    "Some examples *(you will have to install Python on your computer)*:\n",
    "* Automatically back up specific data on your computer to a usb.\n",
    "* Automatically calculate your current stock values with a stocks API\n",
    "* Keep track of prices of certain Amazon products and get notified when the price drops\n",
    "* Use Python for Data Science or Machine Learning projects\n",
    "\n",
    "Find more cool ideas for Python projects in [this video](https://www.youtube.com/watch?v=o5sb8ehRSYA) (general ideas), [this video](https://www.youtube.com/watch?v=qbW6FRbaSl0&t=57s) (automation stuff) or [that video](https://www.youtube.com/watch?v=OXi4T58PwdM) (GUI stuff)"
   ]
  },
  {
   "cell_type": "markdown",
   "metadata": {
    "id": "g-1kOptKGOK6",
    "slideshow": {
     "slide_type": "subslide"
    }
   },
   "source": [
    "## Further useful resources\n",
    "* Learn more Python syntax: [w3schools (very similar to this)](https://www.w3schools.com/python/)\n",
    "* Have a look at [databases to store data](https://www.w3schools.com/python/python_mysql_create_db.asp)\n",
    "* Go all in with [machine learning and Tensorflow (advanced)](https://www.udacity.com/course/intro-to-tensorflow-for-deep-learning--ud187)"
   ]
  },
  {
   "cell_type": "markdown",
   "metadata": {
    "id": "jAmIgvcwBdRk",
    "slideshow": {
     "slide_type": "subslide"
    }
   },
   "source": [
    "## If you have any questions, feedback or want to share what you where able to do with the help of this Python Workshop\n",
    "**Contact me** at matthias.hausberger@me.com"
   ]
  },
  {
   "cell_type": "markdown",
   "metadata": {
    "id": "wWrlVoIoBwC1",
    "slideshow": {
     "slide_type": "subslide"
    }
   },
   "source": [
    "Thank you!"
   ]
  }
 ],
 "metadata": {
  "celltoolbar": "Slideshow",
  "colab": {
   "collapsed_sections": [],
   "name": "Python_CheatSheet_withSolutions.ipynb",
   "provenance": [],
   "toc_visible": true
  },
  "kernelspec": {
   "display_name": "Python 3",
   "language": "python",
   "name": "python3"
  },
  "language_info": {
   "codemirror_mode": {
    "name": "ipython",
    "version": 3
   },
   "file_extension": ".py",
   "mimetype": "text/x-python",
   "name": "python",
   "nbconvert_exporter": "python",
   "pygments_lexer": "ipython3",
   "version": "3.8.3"
  }
 },
 "nbformat": 4,
 "nbformat_minor": 4
}
